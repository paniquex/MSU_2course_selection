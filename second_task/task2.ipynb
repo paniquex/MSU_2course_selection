{
 "cells": [
  {
   "cell_type": "markdown",
   "metadata": {},
   "source": [
    "### Напишем функции для вычисления расстояния Хэмминга и числа попарных совпадений координат"
   ]
  },
  {
   "cell_type": "code",
   "execution_count": 1,
   "metadata": {},
   "outputs": [],
   "source": [
    "import numpy as np\n",
    "def hamming_distance(a, b):\n",
    "    if len(a) != len(a):\n",
    "        print(\"Invalid lens\")\n",
    "        return -1\n",
    "    dist = 0\n",
    "    for x, y in zip(a, b):\n",
    "        if x != y:\n",
    "            dist += 1\n",
    "    return dist\n",
    "\n",
    "def anti_hamming_distance(a, b):\n",
    "    if len(a) != len(a):\n",
    "        print(\"Invalid lens\")\n",
    "        return -1\n",
    "    amount = 0\n",
    "    return len(a) - hamming_distance(a, b)"
   ]
  },
  {
   "cell_type": "markdown",
   "metadata": {},
   "source": [
    "### Напишем функции, которые формируют матрицы попарных расстояний Хэммигна и попарного числа совпадений координат."
   ]
  },
  {
   "cell_type": "code",
   "execution_count": 2,
   "metadata": {},
   "outputs": [],
   "source": [
    "def create_hamming_distance_matrix(a):\n",
    "    \"\"\"a - list of vectors\"\"\"\n",
    "    if len(a) < 0:\n",
    "        print(\"Not enough vectors.\")\n",
    "        return -1\n",
    "    vectors_amount = len(a)\n",
    "    matrix = np.zeros((vectors_amount, vectors_amount))\n",
    "    for i in range(vectors_amount):\n",
    "        for j in range(vectors_amount):\n",
    "            matrix[i][j] = hamming_distance(a[i], a[j])\n",
    "    return matrix\n",
    "    "
   ]
  },
  {
   "cell_type": "code",
   "execution_count": 3,
   "metadata": {},
   "outputs": [],
   "source": [
    "def create_anti_hamming_distance_matrix(a):\n",
    "    \"\"\"a - list of vectors\"\"\"\n",
    "    vectors_amount = len(a)\n",
    "    vectors_dim = len(a[0])\n",
    "    hamming_matrix = create_hamming_distance_matrix(a)\n",
    "    return abs(vectors_dim * np.ones(vectors_amount) - hamming_matrix)"
   ]
  },
  {
   "cell_type": "markdown",
   "metadata": {},
   "source": [
    "### Напишем функцию для генерации векторов одинаковой длины:"
   ]
  },
  {
   "cell_type": "code",
   "execution_count": 4,
   "metadata": {},
   "outputs": [],
   "source": [
    "def generate_vectors(vectors_amount, vectors_dim, coordinates_range, seed):\n",
    "    if seed != None:\n",
    "        np.random.seed = seed\n",
    "    vectors = []\n",
    "    i = 0\n",
    "    while i < vectors_amount:\n",
    "        flag = 1\n",
    "        vector = np.random.randint(coordinates_range, size=(vectors_dim))\n",
    "        for vec in vectors:\n",
    "            matches_number = np.sum(np.equal(vector, vec))\n",
    "            if matches_number == vectors_dim:\n",
    "                flag = 0\n",
    "                break\n",
    "        if flag:\n",
    "            vectors.append(vector)\n",
    "            i += 1\n",
    "    return vectors"
   ]
  },
  {
   "cell_type": "markdown",
   "metadata": {},
   "source": [
    "### Проверим написанные функции:"
   ]
  },
  {
   "cell_type": "code",
   "execution_count": 5,
   "metadata": {},
   "outputs": [
    {
     "data": {
      "text/plain": [
       "[array([0, 1, 0, 0]),\n",
       " array([0, 0, 0, 0]),\n",
       " array([0, 0, 0, 1]),\n",
       " array([1, 0, 0, 0]),\n",
       " array([0, 1, 1, 0])]"
      ]
     },
     "execution_count": 5,
     "metadata": {},
     "output_type": "execute_result"
    }
   ],
   "source": [
    "vectors = generate_vectors(5, 4, 2, 6)\n",
    "vectors"
   ]
  },
  {
   "cell_type": "code",
   "execution_count": 6,
   "metadata": {},
   "outputs": [
    {
     "data": {
      "text/plain": [
       "array([[0., 1., 2., 2., 1.],\n",
       "       [1., 0., 1., 1., 2.],\n",
       "       [2., 1., 0., 2., 3.],\n",
       "       [2., 1., 2., 0., 3.],\n",
       "       [1., 2., 3., 3., 0.]])"
      ]
     },
     "execution_count": 6,
     "metadata": {},
     "output_type": "execute_result"
    }
   ],
   "source": [
    "ham = create_hamming_distance_matrix(vectors)\n",
    "ham"
   ]
  },
  {
   "cell_type": "code",
   "execution_count": 7,
   "metadata": {},
   "outputs": [
    {
     "data": {
      "text/plain": [
       "array([[4., 3., 2., 2., 3.],\n",
       "       [3., 4., 3., 3., 2.],\n",
       "       [2., 3., 4., 2., 1.],\n",
       "       [2., 3., 2., 4., 1.],\n",
       "       [3., 2., 1., 1., 4.]])"
      ]
     },
     "execution_count": 7,
     "metadata": {},
     "output_type": "execute_result"
    }
   ],
   "source": [
    "anti_ham = create_anti_hamming_distance_matrix(vectors)\n",
    "anti_ham"
   ]
  },
  {
   "cell_type": "markdown",
   "metadata": {},
   "source": [
    "## Напишем функцию, проверяющую первую гипотезу из отчета."
   ]
  },
  {
   "cell_type": "code",
   "execution_count": 86,
   "metadata": {},
   "outputs": [],
   "source": [
    "def first_hypothesis_vect_cycle(vectors_amount=15, vectors_dim=5, coordinates_range=3, seed=0, file=0):\n",
    "    for i in range(vectors_amount):\n",
    "        vectors = generate_vectors(i+2, vectors_dim, coordinates_range+i, seed)\n",
    "        ham = create_hamming_distance_matrix(vectors)\n",
    "        anti_ham = create_anti_hamming_distance_matrix(vectors)\n",
    "        ham_rank = np.linalg.matrix_rank(ham)\n",
    "        anti_ham_rank = np.linalg.matrix_rank(anti_ham)\n",
    "        concat_matrix = np.concatenate((ham, anti_ham), axis = -1)\n",
    "        concat_matrix_rank = np.linalg.matrix_rank(concat_matrix)\n",
    "        if ((concat_matrix_rank == ham_rank) & (concat_matrix_rank == anti_ham_rank)):\n",
    "            print(\"Vectors amount: \", i+2, file=file)\n",
    "            print(\"Vectors dim: \", vectors_dim, file=file)\n",
    "            print(\"Coordinates range: \", coordinates_range+i, file=file)\n",
    "            print(\"________________________________\", file=file)\n",
    "        else: \n",
    "            print(\"********************************************\", file=file)\n",
    "            print(\"Bad\", file=file)\n",
    "            print(\"Vectors: \", vectors, file=file)\n",
    "            print(\"ham:\\n\", ham, file=file)\n",
    "            print(\"anti-ham:\\n\", anti_ham, file=file)\n",
    "            print(\"Vectors amount: \", i+2, file=file)\n",
    "            print(\"*********************************************\", file=file)\n",
    "    return 0"
   ]
  },
  {
   "cell_type": "code",
   "execution_count": 87,
   "metadata": {},
   "outputs": [],
   "source": [
    "def first_hypothesis_check(vectors_amount=15, vectors_dim=15, coordinates_range=15, seed=0):\n",
    "    with open(\"first_hypothesis_check\", \"w\") as file:\n",
    "        for i in range(1, vectors_dim):\n",
    "            for j in range(4, coordinates_range):\n",
    "                first_hypothesis_vect_cycle(vectors_amount=vectors_amount, \n",
    "                                                vectors_dim=i, coordinates_range=j, seed=seed, file=file)"
   ]
  },
  {
   "cell_type": "code",
   "execution_count": 90,
   "metadata": {},
   "outputs": [],
   "source": [
    "first_hypothesis_check(vectors_amount = 100, vectors_dim=6, coordinates_range = 5, seed=15)"
   ]
  },
  {
   "cell_type": "markdown",
   "metadata": {},
   "source": [
    "### По результатам работы функции замечаем, что ответ на вопрос задачи отрицательный, если в выборке векторов есть хотя бы два совпадающих. Иначе - ответ положительный. \n",
    "\n",
    "## Гипотеза: верно, что пространства линейных комбинаций столбцов данных матриц совпадают."
   ]
  },
  {
   "cell_type": "markdown",
   "metadata": {},
   "source": [
    "## Попробуем посмотреть на различные характеристики матриц H и M:"
   ]
  },
  {
   "cell_type": "code",
   "execution_count": 28,
   "metadata": {},
   "outputs": [],
   "source": [
    "def matrix_characteristics_0(vectors_amount=15, vectors_dim=5, coordinates_range=3, seed=0):\n",
    "    with open(\"matrix_characteristics_0\", \"w\") as file:\n",
    "        for i in range(vectors_amount):\n",
    "            vectors = generate_vectors(i+1, vectors_dim, coordinates_range, seed)\n",
    "            ham = create_hamming_distance_matrix(vectors)\n",
    "            anti_ham = create_anti_hamming_distance_matrix(vectors)\n",
    "            print(\"Ham = \\n{}\".format(ham), file=file)\n",
    "            print(\"Anti_Ham = \\n{}\".format(anti_ham), file=file)\n",
    "            print(\"vectors = \\n{}\".format(vectors), file=file)\n",
    "            print(\"|Ham|      = {}\".format(np.linalg.matrix_rank(ham)), file=file)\n",
    "            print(\"|Anti_Ham| = {}\".format(np.linalg.matrix_rank(anti_ham)), file=file)"
   ]
  },
  {
   "cell_type": "code",
   "execution_count": 29,
   "metadata": {},
   "outputs": [],
   "source": [
    "matrix_characteristics_0(vectors_amount=100, vectors_dim=5, coordinates_range=4, seed = 235)"
   ]
  },
  {
   "cell_type": "code",
   "execution_count": 30,
   "metadata": {},
   "outputs": [],
   "source": [
    "def matrix_characteristics_1(vectors_amount=15, vectors_dim=5, coordinates_range=3, seed=0):\n",
    "    with open(\"matrix_characteristics_1\", \"w\") as file:\n",
    "        for i in range(vectors_amount):\n",
    "            vectors = generate_vectors(i+1, vectors_dim, coordinates_range, seed)\n",
    "            ham = create_hamming_distance_matrix(vectors)\n",
    "            anti_ham = create_anti_hamming_distance_matrix(vectors)\n",
    "            power = 10\n",
    "            powered_ham = np.linalg.matrix_power(ham, power)\n",
    "            powered_anti_ham = np.linalg.matrix_power(anti_ham, power)\n",
    "            print(\"Powered_Ham_rank      = {}\".format(np.linalg.matrix_rank(powered_ham)), file = file)\n",
    "            print(\"Powered_Anti_Ham_rank = {}\".format(np.linalg.matrix_rank(powered_anti_ham)), file = file)"
   ]
  },
  {
   "cell_type": "code",
   "execution_count": 31,
   "metadata": {},
   "outputs": [],
   "source": [
    "matrix_characteristics_1(vectors_amount=200, coordinates_range=9, seed=20)"
   ]
  },
  {
   "cell_type": "code",
   "execution_count": 34,
   "metadata": {},
   "outputs": [],
   "source": [
    "def matrix_characteristics_2(vectors_amount=15, vectors_dim=5, coordinates_range=3, seed=0):\n",
    "    with open(\"matrix_characteristics_2\", \"w\") as file:\n",
    "        for i in range(vectors_amount):\n",
    "            vectors = generate_vectors(i+1, vectors_dim, coordinates_range, seed)\n",
    "            ham = create_hamming_distance_matrix(vectors)\n",
    "            anti_ham = create_anti_hamming_distance_matrix(vectors)\n",
    "#             concat_matrix = np.concatenate((ham, anti_ham), axis = -1)\n",
    "#             concat_matrix_rank = np.linalg.matrix_rank(concat_matrix)\n",
    "#             print(\"Ham = \\n{}\".format(ham))\n",
    "#             print(\"Anti_Ham = \\n{}\".format(anti_ham))\n",
    "#             print(\"vectors = \\n{}\".format(vectors))\n",
    "            ham_singular_vals = np.linalg.svd(ham)[1]\n",
    "            anti_ham_singular_vals = np.linalg.svd(anti_ham)[1]\n",
    "            print(\"Ham_sing      = {}\".format(ham_singular_vals), file = file)\n",
    "            print(\"Anti_Ham_sing = {}\".format(anti_ham_singular_vals), file = file)\n",
    "            print(np.mean(ham_singular_vals-anti_ham_singular_vals), file = file)\n",
    "            print(\"____________________________________________\", file = file)"
   ]
  },
  {
   "cell_type": "code",
   "execution_count": 35,
   "metadata": {},
   "outputs": [],
   "source": [
    "matrix_characteristics_2(vectors_amount= 100)"
   ]
  },
  {
   "cell_type": "markdown",
   "metadata": {},
   "source": [
    "## Попробуем найти зависимость у решений уравнения Hx = e, где e = (1, 1, 1, ..., 1)^T."
   ]
  },
  {
   "cell_type": "code",
   "execution_count": 44,
   "metadata": {},
   "outputs": [],
   "source": [
    "def second_hypothesis_check(vectors_amount=15, vectors_dim=5, coordinates_range=5, seed=0):\n",
    "    with open(\"second_hypothesis_check_2\", \"w\") as file:\n",
    "        for i in range(vectors_amount):\n",
    "                vectors = generate_vectors(i+2, vectors_dim, coordinates_range, seed)\n",
    "                ham = create_hamming_distance_matrix(vectors)\n",
    "                anti_ham = create_anti_hamming_distance_matrix(vectors)\n",
    "                eye_vector = np.ones((i+2, 1))\n",
    "                concat_matrix = np.concatenate((ham, eye_vector), axis = 1)\n",
    "                print(\"Vectors amount: \", i+2, file = file)\n",
    "                print(\"Ham: \\n\", ham, file = file)\n",
    "                if (np.linalg.det(ham) != 0):\n",
    "                    print(\"Solution:\\n\", (np.linalg.solve(ham, eye_vector)), \" \", np.max(np.linalg.solve(ham, eye_vector)), file = file)\n",
    "                else:\n",
    "                    rank_ham = np.linalg.matrix_rank(ham)\n",
    "                    rank_aug = np.linalg.matrix_rank(concat_matrix)\n",
    "                    if rank_ham != rank_aug:\n",
    "                        print(\"***************************Теорема Кронекера-Капелли не выполняется!**********************************\", file = file)\n",
    "                    else:\n",
    "                        print(\"Теорема Кронекера-Капелли выполняется => система имеет бесконечно много решений\", file = file)\n",
    "                print(\"______________________________________________________________\", file = file)"
   ]
  },
  {
   "cell_type": "markdown",
   "metadata": {},
   "source": [
    "## Как видим из результатов - нужно учитывать, что гипотеза 2 должна быть верна(проверена при различных параметрах vectors_amount, vectors_dim, coordinates_range)."
   ]
  },
  {
   "cell_type": "code",
   "execution_count": 37,
   "metadata": {},
   "outputs": [],
   "source": [
    "for i in range(2, 50):\n",
    "    second_hypothesis_check(i, vectors_dim = i, coordinates_range = i, seed=i)"
   ]
  },
  {
   "cell_type": "code",
   "execution_count": 41,
   "metadata": {},
   "outputs": [],
   "source": [
    "for i in range(2, 50):\n",
    "    second_hypothesis_check(vectors_amount=i, vectors_dim = 1, coordinates_range=50000, seed = i)"
   ]
  },
  {
   "cell_type": "code",
   "execution_count": 46,
   "metadata": {},
   "outputs": [],
   "source": [
    "for i in range(2, 50):\n",
    "    second_hypothesis_check(vectors_amount=i, vectors_dim = 5, coordinates_range=15, seed = i)"
   ]
  },
  {
   "cell_type": "code",
   "execution_count": 47,
   "metadata": {},
   "outputs": [],
   "source": [
    "def second_hypothesis_check_anti_ham(vectors_amount=15, vectors_dim=5, coordinates_range=5, seed=0):\n",
    "    with open(\"second_hypothesis_check_anti_ham\", \"w\") as file:\n",
    "        for i in range(vectors_amount):\n",
    "            vectors = generate_vectors(i+2, vectors_dim, coordinates_range, seed)\n",
    "            ham = create_hamming_distance_matrix(vectors)\n",
    "            anti_ham = create_anti_hamming_distance_matrix(vectors)\n",
    "            eye_vector = np.ones((i+2, 1))\n",
    "            concat_matrix = np.concatenate((anti_ham, eye_vector), axis = 1)\n",
    "            print(\"Vectors amount: \", i+2, file = file)\n",
    "            print(\"Anti-Ham: \\n\", anti_ham, file = file)\n",
    "            if (np.linalg.det(anti_ham) != 0):\n",
    "                print(\"Solution:\\n\", (np.linalg.solve(anti_ham, eye_vector)), \" \", np.max(np.linalg.solve(anti_ham, eye_vector)), file = file)\n",
    "            else:\n",
    "                rank_anti_ham = np.linalg.matrix_rank(anti_ham)\n",
    "                rank_aug = np.linalg.matrix_rank(concat_matrix)\n",
    "                if rank_anti_ham != rank_aug:\n",
    "                    print(\"***************************Теорема Кронекера-Капелли не выполняется!**********************************\", file = file)\n",
    "                else:\n",
    "                    print(\"Теорема Кронекера-Капелли выполняется => система имеет бесконечно много решений\", file = file)\n",
    "            print(\"______________________________________________________________\", file = file)"
   ]
  },
  {
   "cell_type": "code",
   "execution_count": 48,
   "metadata": {},
   "outputs": [],
   "source": [
    "second_hypothesis_check_anti_ham(vectors_amount=20, vectors_dim=2, coordinates_range=19)"
   ]
  },
  {
   "cell_type": "code",
   "execution_count": null,
   "metadata": {},
   "outputs": [],
   "source": []
  }
 ],
 "metadata": {
  "kernelspec": {
   "display_name": "Python 3",
   "language": "python",
   "name": "python3"
  },
  "language_info": {
   "codemirror_mode": {
    "name": "ipython",
    "version": 3
   },
   "file_extension": ".py",
   "mimetype": "text/x-python",
   "name": "python",
   "nbconvert_exporter": "python",
   "pygments_lexer": "ipython3",
   "version": "3.7.1"
  }
 },
 "nbformat": 4,
 "nbformat_minor": 2
}
