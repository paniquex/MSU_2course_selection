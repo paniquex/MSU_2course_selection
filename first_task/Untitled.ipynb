{
  "nbformat": 4,
  "nbformat_minor": 0,
  "metadata": {
    "colab": {
      "name": "Untitled.ipynb",
      "version": "0.3.2",
      "provenance": []
    },
    "kernelspec": {
      "name": "python3",
      "display_name": "Python 3"
    },
    "accelerator": "GPU"
  },
  "cells": [
    {
      "metadata": {
        "id": "jS67JJQy2zGq",
        "colab_type": "code",
        "colab": {}
      },
      "cell_type": "code",
      "source": [
        "import pandas as pd\n",
        "import numpy as np\n",
        "import seaborn as sns\n",
        "import warnings\n",
        "warnings.filterwarnings(\"ignore\") # отключение варнингов\n",
        "train_data = pd.read_csv('train_values.csv', index_col=0, parse_dates=['timestamp'])\n",
        "target = pd.read_csv('train_labels.csv', index_col=0)\n",
        "test_data = pd.read_csv('test_values.csv', index_col=0, parse_dates=['timestamp'])\n"
      ],
      "execution_count": 0,
      "outputs": []
    },
    {
      "metadata": {
        "id": "XeXJYmRt8BW0",
        "colab_type": "text"
      },
      "cell_type": "markdown",
      "source": [
        "**Для начала воспользуемся бэнчмарком, данным на соревновании и попытаемся его улучшить:**"
      ]
    },
    {
      "metadata": {
        "id": "Wh3v2-1e8pij",
        "colab_type": "text"
      },
      "cell_type": "markdown",
      "source": [
        "*Пропусков в данных практически нет(кроме последнего столбца)*"
      ]
    },
    {
      "metadata": {
        "id": "Lz-zTE0K4KZZ",
        "colab_type": "code",
        "colab": {
          "base_uri": "https://localhost:8080/",
          "height": 731
        },
        "outputId": "9ac0447a-5e1d-4623-d78a-8dd3841889c7"
      },
      "cell_type": "code",
      "source": [
        "train_data.info()"
      ],
      "execution_count": 32,
      "outputs": [
        {
          "output_type": "stream",
          "text": [
            "<class 'pandas.core.frame.DataFrame'>\n",
            "Int64Index: 1215777 entries, 0 to 1215776\n",
            "Data columns (total 35 columns):\n",
            "process_id                    1215777 non-null int64\n",
            "object_id                     1215777 non-null int64\n",
            "phase                         1215777 non-null object\n",
            "timestamp                     1215777 non-null datetime64[ns]\n",
            "pipeline                      1215777 non-null object\n",
            "supply_flow                   1215777 non-null float64\n",
            "supply_pressure               1215777 non-null float64\n",
            "return_temperature            1215777 non-null float64\n",
            "return_conductivity           1215777 non-null float64\n",
            "return_turbidity              1215777 non-null float64\n",
            "return_flow                   1215777 non-null float64\n",
            "supply_pump                   1215777 non-null bool\n",
            "supply_pre_rinse              1215777 non-null bool\n",
            "supply_caustic                1215777 non-null bool\n",
            "return_caustic                1215777 non-null bool\n",
            "supply_acid                   1215777 non-null bool\n",
            "return_acid                   1215777 non-null bool\n",
            "supply_clean_water            1215777 non-null bool\n",
            "return_recovery_water         1215777 non-null bool\n",
            "return_drain                  1215777 non-null bool\n",
            "object_low_level              1215777 non-null object\n",
            "tank_level_pre_rinse          1215776 non-null float64\n",
            "tank_level_caustic            1215776 non-null float64\n",
            "tank_level_acid               1215776 non-null float64\n",
            "tank_level_clean_water        1215776 non-null float64\n",
            "tank_temperature_pre_rinse    1215776 non-null float64\n",
            "tank_temperature_caustic      1215776 non-null float64\n",
            "tank_temperature_acid         1215776 non-null float64\n",
            "tank_concentration_caustic    1215776 non-null float64\n",
            "tank_concentration_acid       1215776 non-null float64\n",
            "tank_lsh_caustic              1215776 non-null object\n",
            "tank_lsh_acid                 1215776 non-null float64\n",
            "tank_lsh_clean_water          1215776 non-null object\n",
            "tank_lsh_pre_rinse            1215776 non-null float64\n",
            "target_time_period            1215776 non-null object\n",
            "dtypes: bool(9), datetime64[ns](1), float64(17), int64(2), object(6)\n",
            "memory usage: 260.9+ MB\n"
          ],
          "name": "stdout"
        }
      ]
    },
    {
      "metadata": {
        "id": "Q6M-hl5f8lB0",
        "colab_type": "code",
        "colab": {}
      },
      "cell_type": "code",
      "source": [
        "# subset to final rinse phase observations\n",
        "train_data.fillna(value=True, inplace=True)\n",
        "final_phases = train_data[train_data['target_time_period']]\n",
        "#just one process\n",
        "final_phase = final_phases[final_phases['process_id'] == 20015]"
      ],
      "execution_count": 0,
      "outputs": []
    },
    {
      "metadata": {
        "id": "p_TfLMZq9yNN",
        "colab_type": "code",
        "colab": {}
      },
      "cell_type": "code",
      "source": [
        "# calculate target variable\n",
        "final_phase = final_phase.assign(target=np.maximum(final_phase['return_flow'], 0) * final_phase['return_turbidity'])"
      ],
      "execution_count": 0,
      "outputs": []
    },
    {
      "metadata": {
        "id": "AEmnPYI2_CAo",
        "colab_type": "code",
        "colab": {
          "base_uri": "https://localhost:8080/",
          "height": 129
        },
        "outputId": "71144e5a-8a5e-4ec7-a8df-f1fa99c7a2f2"
      },
      "cell_type": "code",
      "source": [
        "final_phase.head()"
      ],
      "execution_count": 35,
      "outputs": [
        {
          "output_type": "execute_result",
          "data": {
            "text/html": [
              "<div>\n",
              "<style scoped>\n",
              "    .dataframe tbody tr th:only-of-type {\n",
              "        vertical-align: middle;\n",
              "    }\n",
              "\n",
              "    .dataframe tbody tr th {\n",
              "        vertical-align: top;\n",
              "    }\n",
              "\n",
              "    .dataframe thead th {\n",
              "        text-align: right;\n",
              "    }\n",
              "</style>\n",
              "<table border=\"1\" class=\"dataframe\">\n",
              "  <thead>\n",
              "    <tr style=\"text-align: right;\">\n",
              "      <th></th>\n",
              "      <th>process_id</th>\n",
              "      <th>object_id</th>\n",
              "      <th>phase</th>\n",
              "      <th>timestamp</th>\n",
              "      <th>pipeline</th>\n",
              "      <th>supply_flow</th>\n",
              "      <th>supply_pressure</th>\n",
              "      <th>return_temperature</th>\n",
              "      <th>return_conductivity</th>\n",
              "      <th>return_turbidity</th>\n",
              "      <th>...</th>\n",
              "      <th>tank_temperature_caustic</th>\n",
              "      <th>tank_temperature_acid</th>\n",
              "      <th>tank_concentration_caustic</th>\n",
              "      <th>tank_concentration_acid</th>\n",
              "      <th>tank_lsh_caustic</th>\n",
              "      <th>tank_lsh_acid</th>\n",
              "      <th>tank_lsh_clean_water</th>\n",
              "      <th>tank_lsh_pre_rinse</th>\n",
              "      <th>target_time_period</th>\n",
              "      <th>target</th>\n",
              "    </tr>\n",
              "    <tr>\n",
              "      <th>row_id</th>\n",
              "      <th></th>\n",
              "      <th></th>\n",
              "      <th></th>\n",
              "      <th></th>\n",
              "      <th></th>\n",
              "      <th></th>\n",
              "      <th></th>\n",
              "      <th></th>\n",
              "      <th></th>\n",
              "      <th></th>\n",
              "      <th></th>\n",
              "      <th></th>\n",
              "      <th></th>\n",
              "      <th></th>\n",
              "      <th></th>\n",
              "      <th></th>\n",
              "      <th></th>\n",
              "      <th></th>\n",
              "      <th></th>\n",
              "      <th></th>\n",
              "      <th></th>\n",
              "    </tr>\n",
              "  </thead>\n",
              "  <tbody>\n",
              "  </tbody>\n",
              "</table>\n",
              "<p>0 rows × 36 columns</p>\n",
              "</div>"
            ],
            "text/plain": [
              "Empty DataFrame\n",
              "Columns: [process_id, object_id, phase, timestamp, pipeline, supply_flow, supply_pressure, return_temperature, return_conductivity, return_turbidity, return_flow, supply_pump, supply_pre_rinse, supply_caustic, return_caustic, supply_acid, return_acid, supply_clean_water, return_recovery_water, return_drain, object_low_level, tank_level_pre_rinse, tank_level_caustic, tank_level_acid, tank_level_clean_water, tank_temperature_pre_rinse, tank_temperature_caustic, tank_temperature_acid, tank_concentration_caustic, tank_concentration_acid, tank_lsh_caustic, tank_lsh_acid, tank_lsh_clean_water, tank_lsh_pre_rinse, target_time_period, target]\n",
              "Index: []\n",
              "\n",
              "[0 rows x 36 columns]"
            ]
          },
          "metadata": {
            "tags": []
          },
          "execution_count": 35
        }
      ]
    },
    {
      "metadata": {
        "id": "gDQl4HXa_EYY",
        "colab_type": "code",
        "colab": {}
      },
      "cell_type": "code",
      "source": [
        "# plot flow, turbidity, and target \n",
        "import matplotlib.pyplot as plt\n",
        "\n",
        "fig, ax = plt.subplots(nrows=1, ncols=3, figsize=(20, 5))\n",
        "\n",
        "ax[0].plot(final_phase.return_flow)\n",
        "ax[0].set_title('Return flow in final phase')\n",
        "\n",
        "ax[1].plot(final_phase.return_turbidity, c='orange')\n",
        "ax[1].set_title('Return turbidity in final phase')\n",
        "\n",
        "ax[2].plot(final_phase.target, c='green')\n",
        "ax[2].set_title('Turbidity in final phase in NTU.L');"
      ],
      "execution_count": 0,
      "outputs": []
    },
    {
      "metadata": {
        "id": "ZDhyYp1zAGKN",
        "colab_type": "code",
        "colab": {}
      },
      "cell_type": "code",
      "source": [
        ""
      ],
      "execution_count": 0,
      "outputs": []
    }
  ]
}