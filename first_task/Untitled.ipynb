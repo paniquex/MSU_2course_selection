{
  "nbformat": 4,
  "nbformat_minor": 0,
  "metadata": {
    "colab": {
      "name": "Untitled.ipynb",
      "version": "0.3.2",
      "provenance": []
    },
    "kernelspec": {
      "name": "python3",
      "display_name": "Python 3"
    },
    "accelerator": "GPU"
  },
  "cells": [
    {
      "metadata": {
        "colab_type": "code",
        "id": "jS67JJQy2zGq",
        "colab": {}
      },
      "cell_type": "code",
      "source": [
        "import pandas as pd\n",
        "import numpy as np\n",
        "import seaborn as sns\n",
        "import warnings\n",
        "warnings.filterwarnings(\"ignore\") # отключение варнингов\n",
        "train_data = pd.read_csv('train_values.csv', index_col=0, parse_dates=['timestamp'])\n",
        "train_labels = pd.read_csv('train_labels.csv', index_col=0)\n",
        "test_data = pd.read_csv('test_values.csv', index_col=0, parse_dates=['timestamp'])\n"
      ],
      "execution_count": 0,
      "outputs": []
    },
    {
      "metadata": {
        "colab_type": "text",
        "id": "XeXJYmRt8BW0"
      },
      "cell_type": "markdown",
      "source": [
        "**Для начала воспользуемся бэнчмарком, данным на соревновании и попытаемся его улучшить:**"
      ]
    },
    {
      "metadata": {
        "colab_type": "text",
        "id": "Wh3v2-1e8pij"
      },
      "cell_type": "markdown",
      "source": [
        "*Пропусков в данных практически нет(кроме последнего столбца)*"
      ]
    },
    {
      "metadata": {
        "colab_type": "code",
        "id": "Lz-zTE0K4KZZ",
        "outputId": "d9ccb291-6644-4c60-ebd6-d7e5405dce9d",
        "colab": {
          "base_uri": "https://localhost:8080/",
          "height": 731
        }
      },
      "cell_type": "code",
      "source": [
        "train_data.info()"
      ],
      "execution_count": 35,
      "outputs": [
        {
          "output_type": "stream",
          "text": [
            "<class 'pandas.core.frame.DataFrame'>\n",
            "Int64Index: 2765889 entries, 0 to 2765888\n",
            "Data columns (total 35 columns):\n",
            "process_id                    int64\n",
            "object_id                     int64\n",
            "phase                         object\n",
            "timestamp                     datetime64[ns]\n",
            "pipeline                      object\n",
            "supply_flow                   float64\n",
            "supply_pressure               float64\n",
            "return_temperature            float64\n",
            "return_conductivity           float64\n",
            "return_turbidity              float64\n",
            "return_flow                   float64\n",
            "supply_pump                   bool\n",
            "supply_pre_rinse              bool\n",
            "supply_caustic                bool\n",
            "return_caustic                bool\n",
            "supply_acid                   bool\n",
            "return_acid                   bool\n",
            "supply_clean_water            bool\n",
            "return_recovery_water         bool\n",
            "return_drain                  bool\n",
            "object_low_level              bool\n",
            "tank_level_pre_rinse          float64\n",
            "tank_level_caustic            float64\n",
            "tank_level_acid               float64\n",
            "tank_level_clean_water        float64\n",
            "tank_temperature_pre_rinse    float64\n",
            "tank_temperature_caustic      float64\n",
            "tank_temperature_acid         float64\n",
            "tank_concentration_caustic    float64\n",
            "tank_concentration_acid       float64\n",
            "tank_lsh_caustic              bool\n",
            "tank_lsh_acid                 float64\n",
            "tank_lsh_clean_water          bool\n",
            "tank_lsh_pre_rinse            float64\n",
            "target_time_period            object\n",
            "dtypes: bool(12), datetime64[ns](1), float64(17), int64(2), object(3)\n",
            "memory usage: 538.1+ MB\n"
          ],
          "name": "stdout"
        }
      ]
    },
    {
      "metadata": {
        "colab_type": "code",
        "id": "Q6M-hl5f8lB0",
        "colab": {
          "base_uri": "https://localhost:8080/",
          "height": 585
        },
        "outputId": "a1a416ca-2f37-4752-ce91-2cca306cabbb"
      },
      "cell_type": "code",
      "source": [
        "# subset to final rinse phase observations\n",
        "#train_data.fillna(value=True, inplace=True)\n",
        "final_phases = train_data[train_data['target_time_period']]\n",
        "#just one process\n",
        "final_phase = final_phases[final_phases['process_id'] == 20017]"
      ],
      "execution_count": 36,
      "outputs": [
        {
          "output_type": "error",
          "ename": "ValueError",
          "evalue": "ignored",
          "traceback": [
            "\u001b[0;31m---------------------------------------------------------------------------\u001b[0m",
            "\u001b[0;31mValueError\u001b[0m                                Traceback (most recent call last)",
            "\u001b[0;32m<ipython-input-36-dd0e62209834>\u001b[0m in \u001b[0;36m<module>\u001b[0;34m()\u001b[0m\n\u001b[0;32m----> 1\u001b[0;31m \u001b[0mfinal_phases\u001b[0m \u001b[0;34m=\u001b[0m \u001b[0mtrain_data\u001b[0m\u001b[0;34m[\u001b[0m\u001b[0mtrain_data\u001b[0m\u001b[0;34m[\u001b[0m\u001b[0;34m'target_time_period'\u001b[0m\u001b[0;34m]\u001b[0m\u001b[0;34m]\u001b[0m\u001b[0;34m\u001b[0m\u001b[0;34m\u001b[0m\u001b[0m\n\u001b[0m\u001b[1;32m      2\u001b[0m \u001b[0;31m#just one process\u001b[0m\u001b[0;34m\u001b[0m\u001b[0;34m\u001b[0m\u001b[0;34m\u001b[0m\u001b[0m\n\u001b[1;32m      3\u001b[0m \u001b[0mfinal_phase\u001b[0m \u001b[0;34m=\u001b[0m \u001b[0mfinal_phases\u001b[0m\u001b[0;34m[\u001b[0m\u001b[0mfinal_phases\u001b[0m\u001b[0;34m[\u001b[0m\u001b[0;34m'process_id'\u001b[0m\u001b[0;34m]\u001b[0m \u001b[0;34m==\u001b[0m \u001b[0;36m20017\u001b[0m\u001b[0;34m]\u001b[0m\u001b[0;34m\u001b[0m\u001b[0;34m\u001b[0m\u001b[0m\n",
            "\u001b[0;32m/usr/local/lib/python3.6/dist-packages/pandas/core/frame.py\u001b[0m in \u001b[0;36m__getitem__\u001b[0;34m(self, key)\u001b[0m\n\u001b[1;32m   2131\u001b[0m         \u001b[0;32mif\u001b[0m \u001b[0misinstance\u001b[0m\u001b[0;34m(\u001b[0m\u001b[0mkey\u001b[0m\u001b[0;34m,\u001b[0m \u001b[0;34m(\u001b[0m\u001b[0mSeries\u001b[0m\u001b[0;34m,\u001b[0m \u001b[0mnp\u001b[0m\u001b[0;34m.\u001b[0m\u001b[0mndarray\u001b[0m\u001b[0;34m,\u001b[0m \u001b[0mIndex\u001b[0m\u001b[0;34m,\u001b[0m \u001b[0mlist\u001b[0m\u001b[0;34m)\u001b[0m\u001b[0;34m)\u001b[0m\u001b[0;34m:\u001b[0m\u001b[0;34m\u001b[0m\u001b[0;34m\u001b[0m\u001b[0m\n\u001b[1;32m   2132\u001b[0m             \u001b[0;31m# either boolean or fancy integer index\u001b[0m\u001b[0;34m\u001b[0m\u001b[0;34m\u001b[0m\u001b[0;34m\u001b[0m\u001b[0m\n\u001b[0;32m-> 2133\u001b[0;31m             \u001b[0;32mreturn\u001b[0m \u001b[0mself\u001b[0m\u001b[0;34m.\u001b[0m\u001b[0m_getitem_array\u001b[0m\u001b[0;34m(\u001b[0m\u001b[0mkey\u001b[0m\u001b[0;34m)\u001b[0m\u001b[0;34m\u001b[0m\u001b[0;34m\u001b[0m\u001b[0m\n\u001b[0m\u001b[1;32m   2134\u001b[0m         \u001b[0;32melif\u001b[0m \u001b[0misinstance\u001b[0m\u001b[0;34m(\u001b[0m\u001b[0mkey\u001b[0m\u001b[0;34m,\u001b[0m \u001b[0mDataFrame\u001b[0m\u001b[0;34m)\u001b[0m\u001b[0;34m:\u001b[0m\u001b[0;34m\u001b[0m\u001b[0;34m\u001b[0m\u001b[0m\n\u001b[1;32m   2135\u001b[0m             \u001b[0;32mreturn\u001b[0m \u001b[0mself\u001b[0m\u001b[0;34m.\u001b[0m\u001b[0m_getitem_frame\u001b[0m\u001b[0;34m(\u001b[0m\u001b[0mkey\u001b[0m\u001b[0;34m)\u001b[0m\u001b[0;34m\u001b[0m\u001b[0;34m\u001b[0m\u001b[0m\n",
            "\u001b[0;32m/usr/local/lib/python3.6/dist-packages/pandas/core/frame.py\u001b[0m in \u001b[0;36m_getitem_array\u001b[0;34m(self, key)\u001b[0m\n\u001b[1;32m   2158\u001b[0m     \u001b[0;32mdef\u001b[0m \u001b[0m_getitem_array\u001b[0m\u001b[0;34m(\u001b[0m\u001b[0mself\u001b[0m\u001b[0;34m,\u001b[0m \u001b[0mkey\u001b[0m\u001b[0;34m)\u001b[0m\u001b[0;34m:\u001b[0m\u001b[0;34m\u001b[0m\u001b[0;34m\u001b[0m\u001b[0m\n\u001b[1;32m   2159\u001b[0m         \u001b[0;31m# also raises Exception if object array with NA values\u001b[0m\u001b[0;34m\u001b[0m\u001b[0;34m\u001b[0m\u001b[0;34m\u001b[0m\u001b[0m\n\u001b[0;32m-> 2160\u001b[0;31m         \u001b[0;32mif\u001b[0m \u001b[0mcom\u001b[0m\u001b[0;34m.\u001b[0m\u001b[0mis_bool_indexer\u001b[0m\u001b[0;34m(\u001b[0m\u001b[0mkey\u001b[0m\u001b[0;34m)\u001b[0m\u001b[0;34m:\u001b[0m\u001b[0;34m\u001b[0m\u001b[0;34m\u001b[0m\u001b[0m\n\u001b[0m\u001b[1;32m   2161\u001b[0m             \u001b[0;31m# warning here just in case -- previously __setitem__ was\u001b[0m\u001b[0;34m\u001b[0m\u001b[0;34m\u001b[0m\u001b[0;34m\u001b[0m\u001b[0m\n\u001b[1;32m   2162\u001b[0m             \u001b[0;31m# reindexing but __getitem__ was not; it seems more reasonable to\u001b[0m\u001b[0;34m\u001b[0m\u001b[0;34m\u001b[0m\u001b[0;34m\u001b[0m\u001b[0m\n",
            "\u001b[0;32m/usr/local/lib/python3.6/dist-packages/pandas/core/common.py\u001b[0m in \u001b[0;36mis_bool_indexer\u001b[0;34m(key)\u001b[0m\n\u001b[1;32m    189\u001b[0m             \u001b[0;32mif\u001b[0m \u001b[0;32mnot\u001b[0m \u001b[0mlib\u001b[0m\u001b[0;34m.\u001b[0m\u001b[0mis_bool_array\u001b[0m\u001b[0;34m(\u001b[0m\u001b[0mkey\u001b[0m\u001b[0;34m)\u001b[0m\u001b[0;34m:\u001b[0m\u001b[0;34m\u001b[0m\u001b[0;34m\u001b[0m\u001b[0m\n\u001b[1;32m    190\u001b[0m                 \u001b[0;32mif\u001b[0m \u001b[0misna\u001b[0m\u001b[0;34m(\u001b[0m\u001b[0mkey\u001b[0m\u001b[0;34m)\u001b[0m\u001b[0;34m.\u001b[0m\u001b[0many\u001b[0m\u001b[0;34m(\u001b[0m\u001b[0;34m)\u001b[0m\u001b[0;34m:\u001b[0m\u001b[0;34m\u001b[0m\u001b[0;34m\u001b[0m\u001b[0m\n\u001b[0;32m--> 191\u001b[0;31m                     raise ValueError('cannot index with vector containing '\n\u001b[0m\u001b[1;32m    192\u001b[0m                                      'NA / NaN values')\n\u001b[1;32m    193\u001b[0m                 \u001b[0;32mreturn\u001b[0m \u001b[0;32mFalse\u001b[0m\u001b[0;34m\u001b[0m\u001b[0;34m\u001b[0m\u001b[0m\n",
            "\u001b[0;31mValueError\u001b[0m: cannot index with vector containing NA / NaN values"
          ]
        }
      ]
    },
    {
      "metadata": {
        "colab_type": "code",
        "id": "p_TfLMZq9yNN",
        "colab": {}
      },
      "cell_type": "code",
      "source": [
        "# calculate target variable\n",
        "final_phase = final_phase.assign(target=np.maximum(final_phase['return_flow'], 0) * final_phase['return_turbidity'])"
      ],
      "execution_count": 0,
      "outputs": []
    },
    {
      "metadata": {
        "colab_type": "code",
        "id": "AEmnPYI2_CAo",
        "outputId": "ceea7d3c-6f96-49c9-b0d1-ea5e0dc336f3",
        "colab": {
          "base_uri": "https://localhost:8080/",
          "height": 369
        }
      },
      "cell_type": "code",
      "source": [
        "final_phase.head()"
      ],
      "execution_count": 38,
      "outputs": [
        {
          "output_type": "execute_result",
          "data": {
            "text/html": [
              "<div>\n",
              "<style scoped>\n",
              "    .dataframe tbody tr th:only-of-type {\n",
              "        vertical-align: middle;\n",
              "    }\n",
              "\n",
              "    .dataframe tbody tr th {\n",
              "        vertical-align: top;\n",
              "    }\n",
              "\n",
              "    .dataframe thead th {\n",
              "        text-align: right;\n",
              "    }\n",
              "</style>\n",
              "<table border=\"1\" class=\"dataframe\">\n",
              "  <thead>\n",
              "    <tr style=\"text-align: right;\">\n",
              "      <th></th>\n",
              "      <th>process_id</th>\n",
              "      <th>object_id</th>\n",
              "      <th>phase</th>\n",
              "      <th>timestamp</th>\n",
              "      <th>pipeline</th>\n",
              "      <th>supply_flow</th>\n",
              "      <th>supply_pressure</th>\n",
              "      <th>return_temperature</th>\n",
              "      <th>return_conductivity</th>\n",
              "      <th>return_turbidity</th>\n",
              "      <th>...</th>\n",
              "      <th>tank_temperature_caustic</th>\n",
              "      <th>tank_temperature_acid</th>\n",
              "      <th>tank_concentration_caustic</th>\n",
              "      <th>tank_concentration_acid</th>\n",
              "      <th>tank_lsh_caustic</th>\n",
              "      <th>tank_lsh_acid</th>\n",
              "      <th>tank_lsh_clean_water</th>\n",
              "      <th>tank_lsh_pre_rinse</th>\n",
              "      <th>target_time_period</th>\n",
              "      <th>target</th>\n",
              "    </tr>\n",
              "    <tr>\n",
              "      <th>row_id</th>\n",
              "      <th></th>\n",
              "      <th></th>\n",
              "      <th></th>\n",
              "      <th></th>\n",
              "      <th></th>\n",
              "      <th></th>\n",
              "      <th></th>\n",
              "      <th></th>\n",
              "      <th></th>\n",
              "      <th></th>\n",
              "      <th></th>\n",
              "      <th></th>\n",
              "      <th></th>\n",
              "      <th></th>\n",
              "      <th></th>\n",
              "      <th></th>\n",
              "      <th></th>\n",
              "      <th></th>\n",
              "      <th></th>\n",
              "      <th></th>\n",
              "      <th></th>\n",
              "    </tr>\n",
              "  </thead>\n",
              "  <tbody>\n",
              "    <tr>\n",
              "      <th>13835</th>\n",
              "      <td>20017</td>\n",
              "      <td>204</td>\n",
              "      <td>final_rinse</td>\n",
              "      <td>2018-03-05 21:31:35</td>\n",
              "      <td>L2</td>\n",
              "      <td>8926.505</td>\n",
              "      <td>1.439019</td>\n",
              "      <td>53.754340</td>\n",
              "      <td>9.294569</td>\n",
              "      <td>0.383391</td>\n",
              "      <td>...</td>\n",
              "      <td>82.219330</td>\n",
              "      <td>72.276474</td>\n",
              "      <td>45.519928</td>\n",
              "      <td>45.603252</td>\n",
              "      <td>False</td>\n",
              "      <td>0.0</td>\n",
              "      <td>False</td>\n",
              "      <td>0.0</td>\n",
              "      <td>True</td>\n",
              "      <td>1454.634597</td>\n",
              "    </tr>\n",
              "    <tr>\n",
              "      <th>13836</th>\n",
              "      <td>20017</td>\n",
              "      <td>204</td>\n",
              "      <td>final_rinse</td>\n",
              "      <td>2018-03-05 21:31:37</td>\n",
              "      <td>L2</td>\n",
              "      <td>9009.693</td>\n",
              "      <td>1.465712</td>\n",
              "      <td>50.857204</td>\n",
              "      <td>8.735830</td>\n",
              "      <td>0.372540</td>\n",
              "      <td>...</td>\n",
              "      <td>82.219330</td>\n",
              "      <td>72.276474</td>\n",
              "      <td>45.518127</td>\n",
              "      <td>45.603252</td>\n",
              "      <td>False</td>\n",
              "      <td>0.0</td>\n",
              "      <td>False</td>\n",
              "      <td>0.0</td>\n",
              "      <td>True</td>\n",
              "      <td>1499.701905</td>\n",
              "    </tr>\n",
              "    <tr>\n",
              "      <th>13837</th>\n",
              "      <td>20017</td>\n",
              "      <td>204</td>\n",
              "      <td>final_rinse</td>\n",
              "      <td>2018-03-05 21:31:39</td>\n",
              "      <td>L2</td>\n",
              "      <td>9165.221</td>\n",
              "      <td>1.516927</td>\n",
              "      <td>48.470055</td>\n",
              "      <td>7.943024</td>\n",
              "      <td>0.368924</td>\n",
              "      <td>...</td>\n",
              "      <td>82.197624</td>\n",
              "      <td>72.276474</td>\n",
              "      <td>45.516660</td>\n",
              "      <td>45.603252</td>\n",
              "      <td>False</td>\n",
              "      <td>0.0</td>\n",
              "      <td>False</td>\n",
              "      <td>0.0</td>\n",
              "      <td>True</td>\n",
              "      <td>1682.626857</td>\n",
              "    </tr>\n",
              "    <tr>\n",
              "      <th>13838</th>\n",
              "      <td>20017</td>\n",
              "      <td>204</td>\n",
              "      <td>final_rinse</td>\n",
              "      <td>2018-03-05 21:31:41</td>\n",
              "      <td>L2</td>\n",
              "      <td>9252.025</td>\n",
              "      <td>1.560113</td>\n",
              "      <td>45.988860</td>\n",
              "      <td>7.108860</td>\n",
              "      <td>0.372540</td>\n",
              "      <td>...</td>\n",
              "      <td>82.197624</td>\n",
              "      <td>72.276474</td>\n",
              "      <td>45.514927</td>\n",
              "      <td>45.603252</td>\n",
              "      <td>False</td>\n",
              "      <td>0.0</td>\n",
              "      <td>False</td>\n",
              "      <td>0.0</td>\n",
              "      <td>True</td>\n",
              "      <td>1680.258986</td>\n",
              "    </tr>\n",
              "    <tr>\n",
              "      <th>13839</th>\n",
              "      <td>20017</td>\n",
              "      <td>204</td>\n",
              "      <td>final_rinse</td>\n",
              "      <td>2018-03-05 21:31:43</td>\n",
              "      <td>L2</td>\n",
              "      <td>9450.955</td>\n",
              "      <td>1.610677</td>\n",
              "      <td>43.645110</td>\n",
              "      <td>6.823575</td>\n",
              "      <td>0.354456</td>\n",
              "      <td>...</td>\n",
              "      <td>82.219330</td>\n",
              "      <td>72.276474</td>\n",
              "      <td>45.516262</td>\n",
              "      <td>45.603252</td>\n",
              "      <td>False</td>\n",
              "      <td>0.0</td>\n",
              "      <td>False</td>\n",
              "      <td>0.0</td>\n",
              "      <td>True</td>\n",
              "      <td>1553.821926</td>\n",
              "    </tr>\n",
              "  </tbody>\n",
              "</table>\n",
              "<p>5 rows × 36 columns</p>\n",
              "</div>"
            ],
            "text/plain": [
              "        process_id  object_id        phase           timestamp pipeline  \\\n",
              "row_id                                                                    \n",
              "13835        20017        204  final_rinse 2018-03-05 21:31:35       L2   \n",
              "13836        20017        204  final_rinse 2018-03-05 21:31:37       L2   \n",
              "13837        20017        204  final_rinse 2018-03-05 21:31:39       L2   \n",
              "13838        20017        204  final_rinse 2018-03-05 21:31:41       L2   \n",
              "13839        20017        204  final_rinse 2018-03-05 21:31:43       L2   \n",
              "\n",
              "        supply_flow  supply_pressure  return_temperature  return_conductivity  \\\n",
              "row_id                                                                          \n",
              "13835      8926.505         1.439019           53.754340             9.294569   \n",
              "13836      9009.693         1.465712           50.857204             8.735830   \n",
              "13837      9165.221         1.516927           48.470055             7.943024   \n",
              "13838      9252.025         1.560113           45.988860             7.108860   \n",
              "13839      9450.955         1.610677           43.645110             6.823575   \n",
              "\n",
              "        return_turbidity     ...       tank_temperature_caustic  \\\n",
              "row_id                       ...                                  \n",
              "13835           0.383391     ...                      82.219330   \n",
              "13836           0.372540     ...                      82.219330   \n",
              "13837           0.368924     ...                      82.197624   \n",
              "13838           0.372540     ...                      82.197624   \n",
              "13839           0.354456     ...                      82.219330   \n",
              "\n",
              "        tank_temperature_acid  tank_concentration_caustic  \\\n",
              "row_id                                                      \n",
              "13835               72.276474                   45.519928   \n",
              "13836               72.276474                   45.518127   \n",
              "13837               72.276474                   45.516660   \n",
              "13838               72.276474                   45.514927   \n",
              "13839               72.276474                   45.516262   \n",
              "\n",
              "        tank_concentration_acid  tank_lsh_caustic  tank_lsh_acid  \\\n",
              "row_id                                                             \n",
              "13835                 45.603252             False            0.0   \n",
              "13836                 45.603252             False            0.0   \n",
              "13837                 45.603252             False            0.0   \n",
              "13838                 45.603252             False            0.0   \n",
              "13839                 45.603252             False            0.0   \n",
              "\n",
              "        tank_lsh_clean_water  tank_lsh_pre_rinse  target_time_period  \\\n",
              "row_id                                                                 \n",
              "13835                  False                 0.0                True   \n",
              "13836                  False                 0.0                True   \n",
              "13837                  False                 0.0                True   \n",
              "13838                  False                 0.0                True   \n",
              "13839                  False                 0.0                True   \n",
              "\n",
              "             target  \n",
              "row_id               \n",
              "13835   1454.634597  \n",
              "13836   1499.701905  \n",
              "13837   1682.626857  \n",
              "13838   1680.258986  \n",
              "13839   1553.821926  \n",
              "\n",
              "[5 rows x 36 columns]"
            ]
          },
          "metadata": {
            "tags": []
          },
          "execution_count": 38
        }
      ]
    },
    {
      "metadata": {
        "colab_type": "code",
        "id": "gDQl4HXa_EYY",
        "colab": {
          "base_uri": "https://localhost:8080/",
          "height": 355
        },
        "outputId": "e6223c70-760d-4fe0-9412-339d59e56712"
      },
      "cell_type": "code",
      "source": [
        "# plot flow, turbidity, and target \n",
        "import matplotlib.pyplot as plt\n",
        "\n",
        "fig, ax = plt.subplots(nrows=1, ncols=3, figsize=(20, 5))\n",
        "\n",
        "ax[0].plot(final_phase['return_flow'])\n",
        "ax[0].set_title('Return flow in final phase')\n",
        "\n",
        "ax[1].plot(final_phase['return_turbidity'], c='orange')\n",
        "ax[1].set_title('Return turbidity in final phase')\n",
        "\n",
        "ax[2].plot(final_phase['target'], c='green')\n",
        "ax[2].set_title('Turbidity in final phase in NTU.L');"
      ],
      "execution_count": 25,
      "outputs": [
        {
          "output_type": "display_data",
          "data": {
            "image/png": "[encoded data removed]",
            "text/plain": [
              "<Figure size 1440x360 with 3 Axes>"
            ]
          },
          "metadata": {
            "tags": []
          }
        }
      ]
    },
    {
      "metadata": {
        "colab_type": "code",
        "id": "ZDhyYp1zAGKN",
        "colab": {
          "base_uri": "https://localhost:8080/",
          "height": 35
        },
        "outputId": "bb24ba73-fa0d-468c-927d-7dfeda67d275"
      },
      "cell_type": "code",
      "source": [
        "#sum to get target\n",
        "final_phase['target'].sum()"
      ],
      "execution_count": 39,
      "outputs": [
        {
          "output_type": "execute_result",
          "data": {
            "text/plain": [
              "103724.28729467509"
            ]
          },
          "metadata": {
            "tags": []
          },
          "execution_count": 39
        }
      ]
    },
    {
      "metadata": {
        "id": "r9pUHlCILc7s",
        "colab_type": "code",
        "colab": {
          "base_uri": "https://localhost:8080/",
          "height": 52
        },
        "outputId": "cb387dbd-8aa7-4579-db6a-4d397d80aac7"
      },
      "cell_type": "code",
      "source": [
        "#confirm that value matches the target label for this process_id\n",
        "train_labels.loc[20017]"
      ],
      "execution_count": 40,
      "outputs": [
        {
          "output_type": "execute_result",
          "data": {
            "text/plain": [
              "final_rinse_total_turbidity_liter    103724.287295\n",
              "Name: 20017, dtype: float64"
            ]
          },
          "metadata": {
            "tags": []
          },
          "execution_count": 40
        }
      ]
    },
    {
      "metadata": {
        "id": "guryiNh-Lc7v",
        "colab_type": "text"
      },
      "cell_type": "markdown",
      "source": [
        "### Удалим из тренировочной выборки записи о последней стадии, так как цель - предсказать помутнение заблаговременно:"
      ]
    },
    {
      "metadata": {
        "id": "wy3wk-pBLc7w",
        "colab_type": "code",
        "colab": {}
      },
      "cell_type": "code",
      "source": [
        "train_data = train_data[train_data['phase'] != 'final_rinse']"
      ],
      "execution_count": 0,
      "outputs": []
    },
    {
      "metadata": {
        "id": "LiXZ3BArLc7z",
        "colab_type": "code",
        "colab": {
          "base_uri": "https://localhost:8080/",
          "height": 379
        },
        "outputId": "9aa872c4-f3c9-4900-f21b-d8a5e7053df0"
      },
      "cell_type": "code",
      "source": [
        "train_data.groupby('process_id')['phase'].nunique().value_counts().sort_index().plot.bar()\n",
        "plt.title(\"Количество процессов в $N$-й фазе\")"
      ],
      "execution_count": 42,
      "outputs": [
        {
          "output_type": "execute_result",
          "data": {
            "text/plain": [
              "Text(0.5, 1.0, 'Количество процессов в $N$-й фазе')"
            ]
          },
          "metadata": {
            "tags": []
          },
          "execution_count": 42
        },
        {
          "output_type": "display_data",
          "data": {
            "image/png": "[encoded data removed]",
            "text/plain": [
              "<Figure size 576x396 with 1 Axes>"
            ]
          },
          "metadata": {
            "tags": []
          }
        }
      ]
    },
    {
      "metadata": {
        "id": "TFMWBKCLLc72",
        "colab_type": "text"
      },
      "cell_type": "markdown",
      "source": [
        "### Создадим уникальный индентификатор фазы для каждого процесса:\n"
      ]
    },
    {
      "metadata": {
        "id": "MQNthbU-Lc74",
        "colab_type": "code",
        "colab": {}
      },
      "cell_type": "code",
      "source": [
        "train_data['process_phase'] = train_data.process_id.astype(str) + '_' + train_data.phase.astype(str)\n",
        "process_phases = train_data.process_phase.unique()\n",
        "\n",
        "# randomly select 80% of phases to keep\n",
        "rng = np.random.RandomState(2019)\n",
        "to_keep = rng.choice(\n",
        "                process_phases,\n",
        "                size=np.int(len(process_phases) * 0.8),\n",
        "                replace=False)\n",
        "\n",
        "train_limited = train_data[train_data.process_phase.isin(to_keep)]\n",
        "\n",
        "# subset labels to match our training data\n",
        "train_labels = train_labels.loc[train_limited.process_id.unique()]"
      ],
      "execution_count": 0,
      "outputs": []
    },
    {
      "metadata": {
        "id": "k59NkuAqLc76",
        "colab_type": "code",
        "colab": {
          "base_uri": "https://localhost:8080/",
          "height": 361
        },
        "outputId": "18fed134-621d-47ee-891a-999e0122ac39"
      },
      "cell_type": "code",
      "source": [
        "train_limited.groupby('process_id').phase.nunique().value_counts().sort_index().plot.bar()\n",
        "plt.title(\"Количество процессов с $N$-й фазой  (Подвыборка из тренировочной)\");"
      ],
      "execution_count": 46,
      "outputs": [
        {
          "output_type": "display_data",
          "data": {
            "image/png": "[encoded data removed]",
            "text/plain": [
              "<Figure size 576x396 with 1 Axes>"
            ]
          },
          "metadata": {
            "tags": []
          }
        }
      ]
    },
    {
      "metadata": {
        "id": "MjnVn4sFLc79",
        "colab_type": "text"
      },
      "cell_type": "markdown",
      "source": [
        "### Feature engineering"
      ]
    },
    {
      "metadata": {
        "id": "Aq3tBiwYLc7-",
        "colab_type": "code",
        "colab": {
          "base_uri": "https://localhost:8080/",
          "height": 283
        },
        "outputId": "151f4720-30ee-4b24-be95-cec1455eb7d7"
      },
      "cell_type": "code",
      "source": [
        "def prep_metadata(df):\n",
        "    # select process_id and pipeline\n",
        "    meta = df[['process_id', 'pipeline']].drop_duplicates().set_index('process_id') \n",
        "    \n",
        "    # convert categorical pipeline data to dummy variables\n",
        "    meta = pd.get_dummies(meta)\n",
        "    \n",
        "    # pipeline L12 not in test data\n",
        "    if 'L12' not in meta.columns:\n",
        "        meta['pipeline_L12'] = 0\n",
        "    \n",
        "    # calculate number of phases for each process_object\n",
        "    meta['num_phases'] = df.groupby('process_id')['phase'].apply(lambda x: x.nunique())\n",
        "    \n",
        "    return meta\n",
        "\n",
        "# show example for first 5,000 observations\n",
        "prep_metadata(train_limited.head(5000))"
      ],
      "execution_count": 47,
      "outputs": [
        {
          "output_type": "execute_result",
          "data": {
            "text/html": [
              "<div>\n",
              "<style scoped>\n",
              "    .dataframe tbody tr th:only-of-type {\n",
              "        vertical-align: middle;\n",
              "    }\n",
              "\n",
              "    .dataframe tbody tr th {\n",
              "        vertical-align: top;\n",
              "    }\n",
              "\n",
              "    .dataframe thead th {\n",
              "        text-align: right;\n",
              "    }\n",
              "</style>\n",
              "<table border=\"1\" class=\"dataframe\">\n",
              "  <thead>\n",
              "    <tr style=\"text-align: right;\">\n",
              "      <th></th>\n",
              "      <th>pipeline_L3</th>\n",
              "      <th>pipeline_L4</th>\n",
              "      <th>pipeline_L7</th>\n",
              "      <th>pipeline_L12</th>\n",
              "      <th>num_phases</th>\n",
              "    </tr>\n",
              "    <tr>\n",
              "      <th>process_id</th>\n",
              "      <th></th>\n",
              "      <th></th>\n",
              "      <th></th>\n",
              "      <th></th>\n",
              "      <th></th>\n",
              "    </tr>\n",
              "  </thead>\n",
              "  <tbody>\n",
              "    <tr>\n",
              "      <th>20001</th>\n",
              "      <td>0</td>\n",
              "      <td>1</td>\n",
              "      <td>0</td>\n",
              "      <td>0</td>\n",
              "      <td>4</td>\n",
              "    </tr>\n",
              "    <tr>\n",
              "      <th>20002</th>\n",
              "      <td>1</td>\n",
              "      <td>0</td>\n",
              "      <td>0</td>\n",
              "      <td>0</td>\n",
              "      <td>2</td>\n",
              "    </tr>\n",
              "    <tr>\n",
              "      <th>20003</th>\n",
              "      <td>1</td>\n",
              "      <td>0</td>\n",
              "      <td>0</td>\n",
              "      <td>0</td>\n",
              "      <td>3</td>\n",
              "    </tr>\n",
              "    <tr>\n",
              "      <th>20004</th>\n",
              "      <td>0</td>\n",
              "      <td>0</td>\n",
              "      <td>1</td>\n",
              "      <td>0</td>\n",
              "      <td>2</td>\n",
              "    </tr>\n",
              "    <tr>\n",
              "      <th>20005</th>\n",
              "      <td>0</td>\n",
              "      <td>0</td>\n",
              "      <td>1</td>\n",
              "      <td>0</td>\n",
              "      <td>1</td>\n",
              "    </tr>\n",
              "    <tr>\n",
              "      <th>20008</th>\n",
              "      <td>0</td>\n",
              "      <td>1</td>\n",
              "      <td>0</td>\n",
              "      <td>0</td>\n",
              "      <td>2</td>\n",
              "    </tr>\n",
              "  </tbody>\n",
              "</table>\n",
              "</div>"
            ],
            "text/plain": [
              "            pipeline_L3  pipeline_L4  pipeline_L7  pipeline_L12  num_phases\n",
              "process_id                                                                 \n",
              "20001                 0            1            0             0           4\n",
              "20002                 1            0            0             0           2\n",
              "20003                 1            0            0             0           3\n",
              "20004                 0            0            1             0           2\n",
              "20005                 0            0            1             0           1\n",
              "20008                 0            1            0             0           2"
            ]
          },
          "metadata": {
            "tags": []
          },
          "execution_count": 47
        }
      ]
    },
    {
      "metadata": {
        "id": "B2tYMISULc8D",
        "colab_type": "code",
        "colab": {}
      },
      "cell_type": "code",
      "source": [
        "# variables we'll use to create our time series features\n",
        "ts_cols = [\n",
        "    'process_id',\n",
        "    'supply_flow',\n",
        "    'supply_pressure',\n",
        "    'return_temperature',\n",
        "    'return_conductivity',\n",
        "    'return_turbidity',\n",
        "    'return_flow',\n",
        "    'tank_level_pre_rinse',\n",
        "    'tank_level_caustic',\n",
        "    'tank_level_acid',\n",
        "    'tank_level_clean_water',\n",
        "    'tank_temperature_pre_rinse',\n",
        "    'tank_temperature_caustic',\n",
        "    'tank_temperature_acid',\n",
        "    'tank_concentration_caustic',\n",
        "    'tank_concentration_acid',\n",
        "]"
      ],
      "execution_count": 0,
      "outputs": []
    },
    {
      "metadata": {
        "id": "ZayTJJFILc8I",
        "colab_type": "code",
        "colab": {
          "base_uri": "https://localhost:8080/",
          "height": 343
        },
        "outputId": "e526aabd-a901-4393-f67e-2a0679a4a3a7"
      },
      "cell_type": "code",
      "source": [
        "def prep_time_series_features(df, columns=None):\n",
        "    if columns is None:\n",
        "        columns = df.columns\n",
        "    \n",
        "    ts_df = df[ts_cols].set_index('process_id')\n",
        "    \n",
        "    # create features: min, max, mean, standard deviation, and mean of the last five observations\n",
        "    ts_features = ts_df.groupby('process_id').agg(['min', 'max', 'mean', 'std', lambda x: x.tail(5).mean()])\n",
        "    \n",
        "    return ts_features\n",
        "\n",
        "# show example for first 5,000 observations\n",
        "prep_time_series_features(train_limited.head(5000), columns=ts_cols)"
      ],
      "execution_count": 49,
      "outputs": [
        {
          "output_type": "execute_result",
          "data": {
            "text/html": [
              "<div>\n",
              "<style scoped>\n",
              "    .dataframe tbody tr th:only-of-type {\n",
              "        vertical-align: middle;\n",
              "    }\n",
              "\n",
              "    .dataframe tbody tr th {\n",
              "        vertical-align: top;\n",
              "    }\n",
              "\n",
              "    .dataframe thead tr th {\n",
              "        text-align: left;\n",
              "    }\n",
              "\n",
              "    .dataframe thead tr:last-of-type th {\n",
              "        text-align: right;\n",
              "    }\n",
              "</style>\n",
              "<table border=\"1\" class=\"dataframe\">\n",
              "  <thead>\n",
              "    <tr>\n",
              "      <th></th>\n",
              "      <th colspan=\"5\" halign=\"left\">supply_flow</th>\n",
              "      <th colspan=\"5\" halign=\"left\">supply_pressure</th>\n",
              "      <th>...</th>\n",
              "      <th colspan=\"5\" halign=\"left\">tank_concentration_caustic</th>\n",
              "      <th colspan=\"5\" halign=\"left\">tank_concentration_acid</th>\n",
              "    </tr>\n",
              "    <tr>\n",
              "      <th></th>\n",
              "      <th>min</th>\n",
              "      <th>max</th>\n",
              "      <th>mean</th>\n",
              "      <th>std</th>\n",
              "      <th>&lt;lambda&gt;</th>\n",
              "      <th>min</th>\n",
              "      <th>max</th>\n",
              "      <th>mean</th>\n",
              "      <th>std</th>\n",
              "      <th>&lt;lambda&gt;</th>\n",
              "      <th>...</th>\n",
              "      <th>min</th>\n",
              "      <th>max</th>\n",
              "      <th>mean</th>\n",
              "      <th>std</th>\n",
              "      <th>&lt;lambda&gt;</th>\n",
              "      <th>min</th>\n",
              "      <th>max</th>\n",
              "      <th>mean</th>\n",
              "      <th>std</th>\n",
              "      <th>&lt;lambda&gt;</th>\n",
              "    </tr>\n",
              "    <tr>\n",
              "      <th>process_id</th>\n",
              "      <th></th>\n",
              "      <th></th>\n",
              "      <th></th>\n",
              "      <th></th>\n",
              "      <th></th>\n",
              "      <th></th>\n",
              "      <th></th>\n",
              "      <th></th>\n",
              "      <th></th>\n",
              "      <th></th>\n",
              "      <th></th>\n",
              "      <th></th>\n",
              "      <th></th>\n",
              "      <th></th>\n",
              "      <th></th>\n",
              "      <th></th>\n",
              "      <th></th>\n",
              "      <th></th>\n",
              "      <th></th>\n",
              "      <th></th>\n",
              "      <th></th>\n",
              "    </tr>\n",
              "  </thead>\n",
              "  <tbody>\n",
              "    <tr>\n",
              "      <th>20001</th>\n",
              "      <td>21.701390</td>\n",
              "      <td>59396.703</td>\n",
              "      <td>49501.604051</td>\n",
              "      <td>12445.724586</td>\n",
              "      <td>48618.3452</td>\n",
              "      <td>-0.036024</td>\n",
              "      <td>2.223741</td>\n",
              "      <td>1.673456</td>\n",
              "      <td>0.344843</td>\n",
              "      <td>1.204688</td>\n",
              "      <td>...</td>\n",
              "      <td>44.667377</td>\n",
              "      <td>46.662950</td>\n",
              "      <td>45.266623</td>\n",
              "      <td>0.322050</td>\n",
              "      <td>45.878381</td>\n",
              "      <td>39.447857</td>\n",
              "      <td>52.411568</td>\n",
              "      <td>44.711593</td>\n",
              "      <td>0.648487</td>\n",
              "      <td>44.653038</td>\n",
              "    </tr>\n",
              "    <tr>\n",
              "      <th>20002</th>\n",
              "      <td>7.233796</td>\n",
              "      <td>34295.430</td>\n",
              "      <td>27142.963425</td>\n",
              "      <td>8337.197885</td>\n",
              "      <td>29688.2238</td>\n",
              "      <td>-0.034071</td>\n",
              "      <td>2.170790</td>\n",
              "      <td>1.477925</td>\n",
              "      <td>0.421852</td>\n",
              "      <td>1.552300</td>\n",
              "      <td>...</td>\n",
              "      <td>44.773426</td>\n",
              "      <td>46.242180</td>\n",
              "      <td>45.373944</td>\n",
              "      <td>0.253696</td>\n",
              "      <td>45.269097</td>\n",
              "      <td>44.216820</td>\n",
              "      <td>44.708210</td>\n",
              "      <td>44.332388</td>\n",
              "      <td>0.079575</td>\n",
              "      <td>44.229616</td>\n",
              "    </tr>\n",
              "    <tr>\n",
              "      <th>20003</th>\n",
              "      <td>-1244.213000</td>\n",
              "      <td>103096.070</td>\n",
              "      <td>29902.913654</td>\n",
              "      <td>10872.426632</td>\n",
              "      <td>30179.3980</td>\n",
              "      <td>-0.033854</td>\n",
              "      <td>3.855469</td>\n",
              "      <td>2.630566</td>\n",
              "      <td>0.917518</td>\n",
              "      <td>3.092057</td>\n",
              "      <td>...</td>\n",
              "      <td>44.209152</td>\n",
              "      <td>47.086292</td>\n",
              "      <td>45.157076</td>\n",
              "      <td>0.296316</td>\n",
              "      <td>44.669835</td>\n",
              "      <td>43.750900</td>\n",
              "      <td>45.270653</td>\n",
              "      <td>44.503377</td>\n",
              "      <td>0.236661</td>\n",
              "      <td>44.716846</td>\n",
              "    </tr>\n",
              "    <tr>\n",
              "      <th>20004</th>\n",
              "      <td>-43.402780</td>\n",
              "      <td>49537.035</td>\n",
              "      <td>31117.193119</td>\n",
              "      <td>13046.723480</td>\n",
              "      <td>33796.2958</td>\n",
              "      <td>-0.009549</td>\n",
              "      <td>0.482422</td>\n",
              "      <td>0.287865</td>\n",
              "      <td>0.163790</td>\n",
              "      <td>0.343012</td>\n",
              "      <td>...</td>\n",
              "      <td>44.831688</td>\n",
              "      <td>46.164917</td>\n",
              "      <td>45.176648</td>\n",
              "      <td>0.172123</td>\n",
              "      <td>45.225381</td>\n",
              "      <td>44.154810</td>\n",
              "      <td>45.862520</td>\n",
              "      <td>44.835026</td>\n",
              "      <td>0.485012</td>\n",
              "      <td>45.226021</td>\n",
              "    </tr>\n",
              "    <tr>\n",
              "      <th>20005</th>\n",
              "      <td>0.000000</td>\n",
              "      <td>31295.209</td>\n",
              "      <td>28241.716353</td>\n",
              "      <td>7107.794924</td>\n",
              "      <td>30962.0944</td>\n",
              "      <td>-0.023438</td>\n",
              "      <td>0.487196</td>\n",
              "      <td>0.418469</td>\n",
              "      <td>0.128794</td>\n",
              "      <td>0.468186</td>\n",
              "      <td>...</td>\n",
              "      <td>44.638810</td>\n",
              "      <td>46.644493</td>\n",
              "      <td>45.163984</td>\n",
              "      <td>0.471708</td>\n",
              "      <td>45.739765</td>\n",
              "      <td>43.527600</td>\n",
              "      <td>44.412254</td>\n",
              "      <td>43.921479</td>\n",
              "      <td>0.249111</td>\n",
              "      <td>43.952939</td>\n",
              "    </tr>\n",
              "    <tr>\n",
              "      <th>20008</th>\n",
              "      <td>2723.524400</td>\n",
              "      <td>60980.902</td>\n",
              "      <td>47568.718207</td>\n",
              "      <td>11803.270140</td>\n",
              "      <td>55033.9996</td>\n",
              "      <td>-0.092665</td>\n",
              "      <td>0.174913</td>\n",
              "      <td>0.169046</td>\n",
              "      <td>0.033207</td>\n",
              "      <td>0.174696</td>\n",
              "      <td>...</td>\n",
              "      <td>44.786827</td>\n",
              "      <td>47.464478</td>\n",
              "      <td>45.379763</td>\n",
              "      <td>0.383026</td>\n",
              "      <td>45.185415</td>\n",
              "      <td>44.621710</td>\n",
              "      <td>45.163643</td>\n",
              "      <td>44.808678</td>\n",
              "      <td>0.065374</td>\n",
              "      <td>45.012828</td>\n",
              "    </tr>\n",
              "  </tbody>\n",
              "</table>\n",
              "<p>6 rows × 75 columns</p>\n",
              "</div>"
            ],
            "text/plain": [
              "            supply_flow                                                      \\\n",
              "                    min         max          mean           std    <lambda>   \n",
              "process_id                                                                    \n",
              "20001         21.701390   59396.703  49501.604051  12445.724586  48618.3452   \n",
              "20002          7.233796   34295.430  27142.963425   8337.197885  29688.2238   \n",
              "20003      -1244.213000  103096.070  29902.913654  10872.426632  30179.3980   \n",
              "20004        -43.402780   49537.035  31117.193119  13046.723480  33796.2958   \n",
              "20005          0.000000   31295.209  28241.716353   7107.794924  30962.0944   \n",
              "20008       2723.524400   60980.902  47568.718207  11803.270140  55033.9996   \n",
              "\n",
              "           supply_pressure                                            ...      \\\n",
              "                       min       max      mean       std  <lambda>    ...       \n",
              "process_id                                                            ...       \n",
              "20001            -0.036024  2.223741  1.673456  0.344843  1.204688    ...       \n",
              "20002            -0.034071  2.170790  1.477925  0.421852  1.552300    ...       \n",
              "20003            -0.033854  3.855469  2.630566  0.917518  3.092057    ...       \n",
              "20004            -0.009549  0.482422  0.287865  0.163790  0.343012    ...       \n",
              "20005            -0.023438  0.487196  0.418469  0.128794  0.468186    ...       \n",
              "20008            -0.092665  0.174913  0.169046  0.033207  0.174696    ...       \n",
              "\n",
              "           tank_concentration_caustic                                  \\\n",
              "                                  min        max       mean       std   \n",
              "process_id                                                              \n",
              "20001                       44.667377  46.662950  45.266623  0.322050   \n",
              "20002                       44.773426  46.242180  45.373944  0.253696   \n",
              "20003                       44.209152  47.086292  45.157076  0.296316   \n",
              "20004                       44.831688  46.164917  45.176648  0.172123   \n",
              "20005                       44.638810  46.644493  45.163984  0.471708   \n",
              "20008                       44.786827  47.464478  45.379763  0.383026   \n",
              "\n",
              "                      tank_concentration_acid                                  \\\n",
              "             <lambda>                     min        max       mean       std   \n",
              "process_id                                                                      \n",
              "20001       45.878381               39.447857  52.411568  44.711593  0.648487   \n",
              "20002       45.269097               44.216820  44.708210  44.332388  0.079575   \n",
              "20003       44.669835               43.750900  45.270653  44.503377  0.236661   \n",
              "20004       45.225381               44.154810  45.862520  44.835026  0.485012   \n",
              "20005       45.739765               43.527600  44.412254  43.921479  0.249111   \n",
              "20008       45.185415               44.621710  45.163643  44.808678  0.065374   \n",
              "\n",
              "                       \n",
              "             <lambda>  \n",
              "process_id             \n",
              "20001       44.653038  \n",
              "20002       44.229616  \n",
              "20003       44.716846  \n",
              "20004       45.226021  \n",
              "20005       43.952939  \n",
              "20008       45.012828  \n",
              "\n",
              "[6 rows x 75 columns]"
            ]
          },
          "metadata": {
            "tags": []
          },
          "execution_count": 49
        }
      ]
    },
    {
      "metadata": {
        "id": "cuYQhwTiLc8P",
        "colab_type": "code",
        "colab": {}
      },
      "cell_type": "code",
      "source": [
        "def create_feature_matrix(df):\n",
        "    metadata = prep_metadata(df)\n",
        "    time_series = prep_time_series_features(df)\n",
        "    \n",
        "    # join metadata and time series features into a single dataframe\n",
        "    feature_matrix = pd.concat([metadata, time_series], axis=1)\n",
        "    \n",
        "    return feature_matrix"
      ],
      "execution_count": 0,
      "outputs": []
    },
    {
      "metadata": {
        "id": "qiM86gn1Lc8U",
        "colab_type": "code",
        "colab": {}
      },
      "cell_type": "code",
      "source": [
        "train_features = create_feature_matrix(train_limited)"
      ],
      "execution_count": 0,
      "outputs": []
    },
    {
      "metadata": {
        "id": "8yCsDOHlagNc",
        "colab_type": "code",
        "colab": {
          "base_uri": "https://localhost:8080/",
          "height": 299
        },
        "outputId": "d1744b5e-5da4-44a7-975d-710a16f1e16a"
      },
      "cell_type": "code",
      "source": [
        "train_features.head()"
      ],
      "execution_count": 52,
      "outputs": [
        {
          "output_type": "execute_result",
          "data": {
            "text/html": [
              "<div>\n",
              "<style scoped>\n",
              "    .dataframe tbody tr th:only-of-type {\n",
              "        vertical-align: middle;\n",
              "    }\n",
              "\n",
              "    .dataframe tbody tr th {\n",
              "        vertical-align: top;\n",
              "    }\n",
              "\n",
              "    .dataframe thead th {\n",
              "        text-align: right;\n",
              "    }\n",
              "</style>\n",
              "<table border=\"1\" class=\"dataframe\">\n",
              "  <thead>\n",
              "    <tr style=\"text-align: right;\">\n",
              "      <th></th>\n",
              "      <th>pipeline_L1</th>\n",
              "      <th>pipeline_L10</th>\n",
              "      <th>pipeline_L11</th>\n",
              "      <th>pipeline_L12</th>\n",
              "      <th>pipeline_L2</th>\n",
              "      <th>pipeline_L3</th>\n",
              "      <th>pipeline_L4</th>\n",
              "      <th>pipeline_L6</th>\n",
              "      <th>pipeline_L7</th>\n",
              "      <th>pipeline_L8</th>\n",
              "      <th>...</th>\n",
              "      <th>(tank_concentration_caustic, min)</th>\n",
              "      <th>(tank_concentration_caustic, max)</th>\n",
              "      <th>(tank_concentration_caustic, mean)</th>\n",
              "      <th>(tank_concentration_caustic, std)</th>\n",
              "      <th>(tank_concentration_caustic, &lt;lambda&gt;)</th>\n",
              "      <th>(tank_concentration_acid, min)</th>\n",
              "      <th>(tank_concentration_acid, max)</th>\n",
              "      <th>(tank_concentration_acid, mean)</th>\n",
              "      <th>(tank_concentration_acid, std)</th>\n",
              "      <th>(tank_concentration_acid, &lt;lambda&gt;)</th>\n",
              "    </tr>\n",
              "    <tr>\n",
              "      <th>process_id</th>\n",
              "      <th></th>\n",
              "      <th></th>\n",
              "      <th></th>\n",
              "      <th></th>\n",
              "      <th></th>\n",
              "      <th></th>\n",
              "      <th></th>\n",
              "      <th></th>\n",
              "      <th></th>\n",
              "      <th></th>\n",
              "      <th></th>\n",
              "      <th></th>\n",
              "      <th></th>\n",
              "      <th></th>\n",
              "      <th></th>\n",
              "      <th></th>\n",
              "      <th></th>\n",
              "      <th></th>\n",
              "      <th></th>\n",
              "      <th></th>\n",
              "      <th></th>\n",
              "    </tr>\n",
              "  </thead>\n",
              "  <tbody>\n",
              "    <tr>\n",
              "      <th>20001</th>\n",
              "      <td>0</td>\n",
              "      <td>0</td>\n",
              "      <td>0</td>\n",
              "      <td>0</td>\n",
              "      <td>0</td>\n",
              "      <td>0</td>\n",
              "      <td>1</td>\n",
              "      <td>0</td>\n",
              "      <td>0</td>\n",
              "      <td>0</td>\n",
              "      <td>...</td>\n",
              "      <td>44.667377</td>\n",
              "      <td>46.662950</td>\n",
              "      <td>45.266623</td>\n",
              "      <td>0.322050</td>\n",
              "      <td>45.878381</td>\n",
              "      <td>39.447857</td>\n",
              "      <td>52.411568</td>\n",
              "      <td>44.711593</td>\n",
              "      <td>0.648487</td>\n",
              "      <td>44.653038</td>\n",
              "    </tr>\n",
              "    <tr>\n",
              "      <th>20002</th>\n",
              "      <td>0</td>\n",
              "      <td>0</td>\n",
              "      <td>0</td>\n",
              "      <td>0</td>\n",
              "      <td>0</td>\n",
              "      <td>1</td>\n",
              "      <td>0</td>\n",
              "      <td>0</td>\n",
              "      <td>0</td>\n",
              "      <td>0</td>\n",
              "      <td>...</td>\n",
              "      <td>44.773426</td>\n",
              "      <td>46.242180</td>\n",
              "      <td>45.373944</td>\n",
              "      <td>0.253696</td>\n",
              "      <td>45.269097</td>\n",
              "      <td>44.216820</td>\n",
              "      <td>44.708210</td>\n",
              "      <td>44.332388</td>\n",
              "      <td>0.079575</td>\n",
              "      <td>44.229616</td>\n",
              "    </tr>\n",
              "    <tr>\n",
              "      <th>20003</th>\n",
              "      <td>0</td>\n",
              "      <td>0</td>\n",
              "      <td>0</td>\n",
              "      <td>0</td>\n",
              "      <td>0</td>\n",
              "      <td>1</td>\n",
              "      <td>0</td>\n",
              "      <td>0</td>\n",
              "      <td>0</td>\n",
              "      <td>0</td>\n",
              "      <td>...</td>\n",
              "      <td>44.209152</td>\n",
              "      <td>47.086292</td>\n",
              "      <td>45.157076</td>\n",
              "      <td>0.296316</td>\n",
              "      <td>44.669835</td>\n",
              "      <td>43.750900</td>\n",
              "      <td>45.270653</td>\n",
              "      <td>44.503377</td>\n",
              "      <td>0.236661</td>\n",
              "      <td>44.716846</td>\n",
              "    </tr>\n",
              "    <tr>\n",
              "      <th>20004</th>\n",
              "      <td>0</td>\n",
              "      <td>0</td>\n",
              "      <td>0</td>\n",
              "      <td>0</td>\n",
              "      <td>0</td>\n",
              "      <td>0</td>\n",
              "      <td>0</td>\n",
              "      <td>0</td>\n",
              "      <td>1</td>\n",
              "      <td>0</td>\n",
              "      <td>...</td>\n",
              "      <td>44.831688</td>\n",
              "      <td>46.164917</td>\n",
              "      <td>45.176648</td>\n",
              "      <td>0.172123</td>\n",
              "      <td>45.225381</td>\n",
              "      <td>44.154810</td>\n",
              "      <td>45.862520</td>\n",
              "      <td>44.835026</td>\n",
              "      <td>0.485012</td>\n",
              "      <td>45.226021</td>\n",
              "    </tr>\n",
              "    <tr>\n",
              "      <th>20005</th>\n",
              "      <td>0</td>\n",
              "      <td>0</td>\n",
              "      <td>0</td>\n",
              "      <td>0</td>\n",
              "      <td>0</td>\n",
              "      <td>0</td>\n",
              "      <td>0</td>\n",
              "      <td>0</td>\n",
              "      <td>1</td>\n",
              "      <td>0</td>\n",
              "      <td>...</td>\n",
              "      <td>44.638810</td>\n",
              "      <td>46.644493</td>\n",
              "      <td>45.163984</td>\n",
              "      <td>0.471708</td>\n",
              "      <td>45.739765</td>\n",
              "      <td>43.527600</td>\n",
              "      <td>44.412254</td>\n",
              "      <td>43.921479</td>\n",
              "      <td>0.249111</td>\n",
              "      <td>43.952939</td>\n",
              "    </tr>\n",
              "  </tbody>\n",
              "</table>\n",
              "<p>5 rows × 87 columns</p>\n",
              "</div>"
            ],
            "text/plain": [
              "            pipeline_L1  pipeline_L10  pipeline_L11  pipeline_L12  \\\n",
              "process_id                                                          \n",
              "20001                 0             0             0             0   \n",
              "20002                 0             0             0             0   \n",
              "20003                 0             0             0             0   \n",
              "20004                 0             0             0             0   \n",
              "20005                 0             0             0             0   \n",
              "\n",
              "            pipeline_L2  pipeline_L3  pipeline_L4  pipeline_L6  pipeline_L7  \\\n",
              "process_id                                                                    \n",
              "20001                 0            0            1            0            0   \n",
              "20002                 0            1            0            0            0   \n",
              "20003                 0            1            0            0            0   \n",
              "20004                 0            0            0            0            1   \n",
              "20005                 0            0            0            0            1   \n",
              "\n",
              "            pipeline_L8                 ...                   \\\n",
              "process_id                              ...                    \n",
              "20001                 0                 ...                    \n",
              "20002                 0                 ...                    \n",
              "20003                 0                 ...                    \n",
              "20004                 0                 ...                    \n",
              "20005                 0                 ...                    \n",
              "\n",
              "            (tank_concentration_caustic, min)  \\\n",
              "process_id                                      \n",
              "20001                               44.667377   \n",
              "20002                               44.773426   \n",
              "20003                               44.209152   \n",
              "20004                               44.831688   \n",
              "20005                               44.638810   \n",
              "\n",
              "            (tank_concentration_caustic, max)  \\\n",
              "process_id                                      \n",
              "20001                               46.662950   \n",
              "20002                               46.242180   \n",
              "20003                               47.086292   \n",
              "20004                               46.164917   \n",
              "20005                               46.644493   \n",
              "\n",
              "            (tank_concentration_caustic, mean)  \\\n",
              "process_id                                       \n",
              "20001                                45.266623   \n",
              "20002                                45.373944   \n",
              "20003                                45.157076   \n",
              "20004                                45.176648   \n",
              "20005                                45.163984   \n",
              "\n",
              "            (tank_concentration_caustic, std)  \\\n",
              "process_id                                      \n",
              "20001                                0.322050   \n",
              "20002                                0.253696   \n",
              "20003                                0.296316   \n",
              "20004                                0.172123   \n",
              "20005                                0.471708   \n",
              "\n",
              "            (tank_concentration_caustic, <lambda>)  \\\n",
              "process_id                                           \n",
              "20001                                    45.878381   \n",
              "20002                                    45.269097   \n",
              "20003                                    44.669835   \n",
              "20004                                    45.225381   \n",
              "20005                                    45.739765   \n",
              "\n",
              "            (tank_concentration_acid, min)  (tank_concentration_acid, max)  \\\n",
              "process_id                                                                   \n",
              "20001                            39.447857                       52.411568   \n",
              "20002                            44.216820                       44.708210   \n",
              "20003                            43.750900                       45.270653   \n",
              "20004                            44.154810                       45.862520   \n",
              "20005                            43.527600                       44.412254   \n",
              "\n",
              "            (tank_concentration_acid, mean)  (tank_concentration_acid, std)  \\\n",
              "process_id                                                                    \n",
              "20001                             44.711593                        0.648487   \n",
              "20002                             44.332388                        0.079575   \n",
              "20003                             44.503377                        0.236661   \n",
              "20004                             44.835026                        0.485012   \n",
              "20005                             43.921479                        0.249111   \n",
              "\n",
              "            (tank_concentration_acid, <lambda>)  \n",
              "process_id                                       \n",
              "20001                                 44.653038  \n",
              "20002                                 44.229616  \n",
              "20003                                 44.716846  \n",
              "20004                                 45.226021  \n",
              "20005                                 43.952939  \n",
              "\n",
              "[5 rows x 87 columns]"
            ]
          },
          "metadata": {
            "tags": []
          },
          "execution_count": 52
        }
      ]
    },
    {
      "metadata": {
        "id": "MKDE6JHnLc8X",
        "colab_type": "text"
      },
      "cell_type": "markdown",
      "source": [
        "# Строим модели и тестируем их:"
      ]
    },
    {
      "metadata": {
        "id": "hqgJonL2Lc8Y",
        "colab_type": "code",
        "colab": {}
      },
      "cell_type": "code",
      "source": [
        "from sklearn.ensemble import RandomForestRegressor\n",
        "from sklearn.linear_model import SGDRegressor\n",
        "from sklearn.model_selection import train_test_split\n",
        "X_train, X_test, y_train, y_test = train_test_split(train_features, np.ravel(train_labels),\n",
        "                                    train_size=0.7, random_state=13)\n",
        "\n",
        "rf_regressor = RandomForestRegressor(n_estimators=115, random_state=13, n_jobs=-1, \n",
        "                                     max_depth=23,\n",
        "                                     max_leaf_nodes= 100,\n",
        "                                     min_samples_leaf = 5,\n",
        "                                     \n",
        "      \n",
        "                                    #max_features=17,\n",
        "                                   # criterion = 'mse',\n",
        "                                  \n",
        "                                    )\n",
        "\n",
        "#sgd_regr = SGDRegressor(penalty='elasticnet', penalty='l1')"
      ],
      "execution_count": 0,
      "outputs": []
    },
    {
      "metadata": {
        "id": "NIt-uIy0NRzu",
        "colab_type": "code",
        "colab": {
          "base_uri": "https://localhost:8080/",
          "height": 141
        },
        "outputId": "87e035e7-27fc-4a13-c1e6-111e2e238a0e"
      },
      "cell_type": "code",
      "source": [
        "rf_regressor.fit(X_train, y_train)\n"
      ],
      "execution_count": 54,
      "outputs": [
        {
          "output_type": "execute_result",
          "data": {
            "text/plain": [
              "RandomForestRegressor(bootstrap=True, criterion='mse', max_depth=23,\n",
              "           max_features='auto', max_leaf_nodes=100,\n",
              "           min_impurity_decrease=0.0, min_impurity_split=None,\n",
              "           min_samples_leaf=5, min_samples_split=2,\n",
              "           min_weight_fraction_leaf=0.0, n_estimators=115, n_jobs=-1,\n",
              "           oob_score=False, random_state=13, verbose=0, warm_start=False)"
            ]
          },
          "metadata": {
            "tags": []
          },
          "execution_count": 54
        }
      ]
    },
    {
      "metadata": {
        "id": "z60rb5GDOtaK",
        "colab_type": "text"
      },
      "cell_type": "markdown",
      "source": [
        "**Напишем функцию, которая считает ошибку предсказания:**"
      ]
    },
    {
      "metadata": {
        "id": "XAoKLw7QO17I",
        "colab_type": "code",
        "colab": {}
      },
      "cell_type": "code",
      "source": [
        "\n",
        "def mean_abs_percentage_err(y_pred, y_true):\n",
        "  return np.mean(np.abs(y_pred - y_true) / np.maximum(np.abs(y_true), np.full(np.shape(y_true), 290000)))\n",
        "    "
      ],
      "execution_count": 0,
      "outputs": []
    },
    {
      "metadata": {
        "id": "HST6dGvCPuLv",
        "colab_type": "code",
        "colab": {
          "base_uri": "https://localhost:8080/",
          "height": 35
        },
        "outputId": "84092b57-cc6b-4a6c-e4d9-e6101fa6033b"
      },
      "cell_type": "code",
      "source": [
        "mean_abs_percentage_err(rf_regressor.predict(X_test), y_test) - 1.3955445450544135"
      ],
      "execution_count": 56,
      "outputs": [
        {
          "output_type": "execute_result",
          "data": {
            "text/plain": [
              "0.17551018709861066"
            ]
          },
          "metadata": {
            "tags": []
          },
          "execution_count": 56
        }
      ]
    },
    {
      "metadata": {
        "id": "gmXNvpDLP1bc",
        "colab_type": "code",
        "colab": {}
      },
      "cell_type": "code",
      "source": [
        ""
      ],
      "execution_count": 0,
      "outputs": []
    },
    {
      "metadata": {
        "id": "-dCYihCsQ8Lo",
        "colab_type": "code",
        "colab": {
          "base_uri": "https://localhost:8080/",
          "height": 141
        },
        "outputId": "337bc9d6-80bb-4c71-9caf-07dca990014d"
      },
      "cell_type": "code",
      "source": [
        "rf_regressor.fit(train_features, np.ravel(train_labels))"
      ],
      "execution_count": 57,
      "outputs": [
        {
          "output_type": "execute_result",
          "data": {
            "text/plain": [
              "RandomForestRegressor(bootstrap=True, criterion='mse', max_depth=23,\n",
              "           max_features='auto', max_leaf_nodes=100,\n",
              "           min_impurity_decrease=0.0, min_impurity_split=None,\n",
              "           min_samples_leaf=5, min_samples_split=2,\n",
              "           min_weight_fraction_leaf=0.0, n_estimators=115, n_jobs=-1,\n",
              "           oob_score=False, random_state=13, verbose=0, warm_start=False)"
            ]
          },
          "metadata": {
            "tags": []
          },
          "execution_count": 57
        }
      ]
    },
    {
      "metadata": {
        "id": "ZOXOy3t7SIyx",
        "colab_type": "code",
        "colab": {}
      },
      "cell_type": "code",
      "source": [
        "test_features = create_feature_matrix(test_data)"
      ],
      "execution_count": 0,
      "outputs": []
    },
    {
      "metadata": {
        "id": "LZF6-tgCWqAa",
        "colab_type": "code",
        "colab": {}
      },
      "cell_type": "code",
      "source": [
        "preds = rf_regressor.predict(test_features)"
      ],
      "execution_count": 0,
      "outputs": []
    },
    {
      "metadata": {
        "id": "6sD52h7TWtfa",
        "colab_type": "code",
        "colab": {}
      },
      "cell_type": "code",
      "source": [
        "submission_format = pd.read_csv('submission_format.csv', index_col=0)"
      ],
      "execution_count": 0,
      "outputs": []
    },
    {
      "metadata": {
        "id": "HcF-1a7jd7Ai",
        "colab_type": "code",
        "colab": {}
      },
      "cell_type": "code",
      "source": [
        "my_submission = pd.DataFrame(data=preds,\n",
        "                             columns=submission_format.columns,\n",
        "                             index=submission_format.index)"
      ],
      "execution_count": 0,
      "outputs": []
    },
    {
      "metadata": {
        "id": "FnhOgjoCd-Dz",
        "colab_type": "code",
        "colab": {}
      },
      "cell_type": "code",
      "source": [
        "my_submission.to_csv('first_try_to_beat_benchmark.csv')"
      ],
      "execution_count": 0,
      "outputs": []
    },
    {
      "metadata": {
        "id": "DMBEgJERd_jr",
        "colab_type": "code",
        "colab": {}
      },
      "cell_type": "code",
      "source": [
        ""
      ],
      "execution_count": 0,
      "outputs": []
    }
  ]
}