{
 "cells": [
  {
   "cell_type": "code",
   "execution_count": 1,
   "metadata": {
    "colab": {},
    "colab_type": "code",
    "id": "jS67JJQy2zGq"
   },
   "outputs": [],
   "source": [
    "import pandas as pd\n",
    "import numpy as np\n",
    "import seaborn as sns\n",
    "import warnings\n",
    "warnings.filterwarnings(\"ignore\") # отключение варнингов\n",
    "train_data = pd.read_csv('data/train_values.csv', index_col=0, parse_dates=['timestamp'])\n",
    "train_labels = pd.read_csv('data/train_labels.csv', index_col=0)\n",
    "test_data = pd.read_csv('data/test_values.csv', index_col=0, parse_dates=['timestamp'])\n"
   ]
  },
  {
   "cell_type": "markdown",
   "metadata": {
    "colab_type": "text",
    "id": "XeXJYmRt8BW0"
   },
   "source": [
    "**Для начала воспользуемся бэнчмарком, данным на соревновании и попытаемся его улучшить:**"
   ]
  },
  {
   "cell_type": "markdown",
   "metadata": {
    "colab_type": "text",
    "id": "Wh3v2-1e8pij"
   },
   "source": [
    "*Пропусков в данных практически нет(кроме последнего столбца)*"
   ]
  },
  {
   "cell_type": "code",
   "execution_count": 2,
   "metadata": {
    "colab": {
     "base_uri": "https://localhost:8080/",
     "height": 731
    },
    "colab_type": "code",
    "id": "Lz-zTE0K4KZZ",
    "outputId": "d9ccb291-6644-4c60-ebd6-d7e5405dce9d"
   },
   "outputs": [
    {
     "name": "stdout",
     "output_type": "stream",
     "text": [
      "<class 'pandas.core.frame.DataFrame'>\n",
      "Int64Index: 5987820 entries, 0 to 5987819\n",
      "Data columns (total 35 columns):\n",
      "process_id                    int64\n",
      "object_id                     int64\n",
      "phase                         object\n",
      "timestamp                     datetime64[ns]\n",
      "pipeline                      object\n",
      "supply_flow                   float64\n",
      "supply_pressure               float64\n",
      "return_temperature            float64\n",
      "return_conductivity           float64\n",
      "return_turbidity              float64\n",
      "return_flow                   float64\n",
      "supply_pump                   bool\n",
      "supply_pre_rinse              bool\n",
      "supply_caustic                bool\n",
      "return_caustic                bool\n",
      "supply_acid                   bool\n",
      "return_acid                   bool\n",
      "supply_clean_water            bool\n",
      "return_recovery_water         bool\n",
      "return_drain                  bool\n",
      "object_low_level              bool\n",
      "tank_level_pre_rinse          float64\n",
      "tank_level_caustic            float64\n",
      "tank_level_acid               float64\n",
      "tank_level_clean_water        float64\n",
      "tank_temperature_pre_rinse    float64\n",
      "tank_temperature_caustic      float64\n",
      "tank_temperature_acid         float64\n",
      "tank_concentration_caustic    float64\n",
      "tank_concentration_acid       float64\n",
      "tank_lsh_caustic              bool\n",
      "tank_lsh_acid                 float64\n",
      "tank_lsh_clean_water          bool\n",
      "tank_lsh_pre_rinse            float64\n",
      "target_time_period            bool\n",
      "dtypes: bool(13), datetime64[ns](1), float64(17), int64(2), object(2)\n",
      "memory usage: 1.1+ GB\n"
     ]
    }
   ],
   "source": [
    "train_data.info()"
   ]
  },
  {
   "cell_type": "code",
   "execution_count": 3,
   "metadata": {
    "colab": {
     "base_uri": "https://localhost:8080/",
     "height": 585
    },
    "colab_type": "code",
    "id": "Q6M-hl5f8lB0",
    "outputId": "a1a416ca-2f37-4752-ce91-2cca306cabbb"
   },
   "outputs": [],
   "source": [
    "# subset to final rinse phase observations\n",
    "#train_data.fillna(value=True, inplace=True)\n",
    "final_phases = train_data[train_data['target_time_period']]\n",
    "#just one process\n",
    "final_phase = final_phases[final_phases['process_id'] == 20017]"
   ]
  },
  {
   "cell_type": "code",
   "execution_count": 4,
   "metadata": {
    "colab": {},
    "colab_type": "code",
    "id": "p_TfLMZq9yNN"
   },
   "outputs": [],
   "source": [
    "# calculate target variable\n",
    "final_phase = final_phase.assign(target=np.maximum(final_phase['return_flow'], 0) * final_phase['return_turbidity'])"
   ]
  },
  {
   "cell_type": "code",
   "execution_count": 5,
   "metadata": {
    "colab": {
     "base_uri": "https://localhost:8080/",
     "height": 369
    },
    "colab_type": "code",
    "id": "AEmnPYI2_CAo",
    "outputId": "ceea7d3c-6f96-49c9-b0d1-ea5e0dc336f3"
   },
   "outputs": [
    {
     "data": {
      "text/html": [
       "<div>\n",
       "<style scoped>\n",
       "    .dataframe tbody tr th:only-of-type {\n",
       "        vertical-align: middle;\n",
       "    }\n",
       "\n",
       "    .dataframe tbody tr th {\n",
       "        vertical-align: top;\n",
       "    }\n",
       "\n",
       "    .dataframe thead th {\n",
       "        text-align: right;\n",
       "    }\n",
       "</style>\n",
       "<table border=\"1\" class=\"dataframe\">\n",
       "  <thead>\n",
       "    <tr style=\"text-align: right;\">\n",
       "      <th></th>\n",
       "      <th>process_id</th>\n",
       "      <th>object_id</th>\n",
       "      <th>phase</th>\n",
       "      <th>timestamp</th>\n",
       "      <th>pipeline</th>\n",
       "      <th>supply_flow</th>\n",
       "      <th>supply_pressure</th>\n",
       "      <th>return_temperature</th>\n",
       "      <th>return_conductivity</th>\n",
       "      <th>return_turbidity</th>\n",
       "      <th>...</th>\n",
       "      <th>tank_temperature_caustic</th>\n",
       "      <th>tank_temperature_acid</th>\n",
       "      <th>tank_concentration_caustic</th>\n",
       "      <th>tank_concentration_acid</th>\n",
       "      <th>tank_lsh_caustic</th>\n",
       "      <th>tank_lsh_acid</th>\n",
       "      <th>tank_lsh_clean_water</th>\n",
       "      <th>tank_lsh_pre_rinse</th>\n",
       "      <th>target_time_period</th>\n",
       "      <th>target</th>\n",
       "    </tr>\n",
       "    <tr>\n",
       "      <th>row_id</th>\n",
       "      <th></th>\n",
       "      <th></th>\n",
       "      <th></th>\n",
       "      <th></th>\n",
       "      <th></th>\n",
       "      <th></th>\n",
       "      <th></th>\n",
       "      <th></th>\n",
       "      <th></th>\n",
       "      <th></th>\n",
       "      <th></th>\n",
       "      <th></th>\n",
       "      <th></th>\n",
       "      <th></th>\n",
       "      <th></th>\n",
       "      <th></th>\n",
       "      <th></th>\n",
       "      <th></th>\n",
       "      <th></th>\n",
       "      <th></th>\n",
       "      <th></th>\n",
       "    </tr>\n",
       "  </thead>\n",
       "  <tbody>\n",
       "    <tr>\n",
       "      <th>13835</th>\n",
       "      <td>20017</td>\n",
       "      <td>204</td>\n",
       "      <td>final_rinse</td>\n",
       "      <td>2018-03-05 21:31:35</td>\n",
       "      <td>L2</td>\n",
       "      <td>8926.505</td>\n",
       "      <td>1.439019</td>\n",
       "      <td>53.754340</td>\n",
       "      <td>9.294569</td>\n",
       "      <td>0.383391</td>\n",
       "      <td>...</td>\n",
       "      <td>82.219330</td>\n",
       "      <td>72.276474</td>\n",
       "      <td>45.519928</td>\n",
       "      <td>45.603252</td>\n",
       "      <td>False</td>\n",
       "      <td>0.0</td>\n",
       "      <td>False</td>\n",
       "      <td>0.0</td>\n",
       "      <td>True</td>\n",
       "      <td>1454.634597</td>\n",
       "    </tr>\n",
       "    <tr>\n",
       "      <th>13836</th>\n",
       "      <td>20017</td>\n",
       "      <td>204</td>\n",
       "      <td>final_rinse</td>\n",
       "      <td>2018-03-05 21:31:37</td>\n",
       "      <td>L2</td>\n",
       "      <td>9009.693</td>\n",
       "      <td>1.465712</td>\n",
       "      <td>50.857204</td>\n",
       "      <td>8.735830</td>\n",
       "      <td>0.372540</td>\n",
       "      <td>...</td>\n",
       "      <td>82.219330</td>\n",
       "      <td>72.276474</td>\n",
       "      <td>45.518127</td>\n",
       "      <td>45.603252</td>\n",
       "      <td>False</td>\n",
       "      <td>0.0</td>\n",
       "      <td>False</td>\n",
       "      <td>0.0</td>\n",
       "      <td>True</td>\n",
       "      <td>1499.701905</td>\n",
       "    </tr>\n",
       "    <tr>\n",
       "      <th>13837</th>\n",
       "      <td>20017</td>\n",
       "      <td>204</td>\n",
       "      <td>final_rinse</td>\n",
       "      <td>2018-03-05 21:31:39</td>\n",
       "      <td>L2</td>\n",
       "      <td>9165.221</td>\n",
       "      <td>1.516927</td>\n",
       "      <td>48.470055</td>\n",
       "      <td>7.943024</td>\n",
       "      <td>0.368924</td>\n",
       "      <td>...</td>\n",
       "      <td>82.197624</td>\n",
       "      <td>72.276474</td>\n",
       "      <td>45.516660</td>\n",
       "      <td>45.603252</td>\n",
       "      <td>False</td>\n",
       "      <td>0.0</td>\n",
       "      <td>False</td>\n",
       "      <td>0.0</td>\n",
       "      <td>True</td>\n",
       "      <td>1682.626857</td>\n",
       "    </tr>\n",
       "    <tr>\n",
       "      <th>13838</th>\n",
       "      <td>20017</td>\n",
       "      <td>204</td>\n",
       "      <td>final_rinse</td>\n",
       "      <td>2018-03-05 21:31:41</td>\n",
       "      <td>L2</td>\n",
       "      <td>9252.025</td>\n",
       "      <td>1.560113</td>\n",
       "      <td>45.988860</td>\n",
       "      <td>7.108860</td>\n",
       "      <td>0.372540</td>\n",
       "      <td>...</td>\n",
       "      <td>82.197624</td>\n",
       "      <td>72.276474</td>\n",
       "      <td>45.514927</td>\n",
       "      <td>45.603252</td>\n",
       "      <td>False</td>\n",
       "      <td>0.0</td>\n",
       "      <td>False</td>\n",
       "      <td>0.0</td>\n",
       "      <td>True</td>\n",
       "      <td>1680.258986</td>\n",
       "    </tr>\n",
       "    <tr>\n",
       "      <th>13839</th>\n",
       "      <td>20017</td>\n",
       "      <td>204</td>\n",
       "      <td>final_rinse</td>\n",
       "      <td>2018-03-05 21:31:43</td>\n",
       "      <td>L2</td>\n",
       "      <td>9450.955</td>\n",
       "      <td>1.610677</td>\n",
       "      <td>43.645110</td>\n",
       "      <td>6.823575</td>\n",
       "      <td>0.354456</td>\n",
       "      <td>...</td>\n",
       "      <td>82.219330</td>\n",
       "      <td>72.276474</td>\n",
       "      <td>45.516262</td>\n",
       "      <td>45.603252</td>\n",
       "      <td>False</td>\n",
       "      <td>0.0</td>\n",
       "      <td>False</td>\n",
       "      <td>0.0</td>\n",
       "      <td>True</td>\n",
       "      <td>1553.821926</td>\n",
       "    </tr>\n",
       "  </tbody>\n",
       "</table>\n",
       "<p>5 rows × 36 columns</p>\n",
       "</div>"
      ],
      "text/plain": [
       "        process_id  object_id        phase           timestamp pipeline  \\\n",
       "row_id                                                                    \n",
       "13835        20017        204  final_rinse 2018-03-05 21:31:35       L2   \n",
       "13836        20017        204  final_rinse 2018-03-05 21:31:37       L2   \n",
       "13837        20017        204  final_rinse 2018-03-05 21:31:39       L2   \n",
       "13838        20017        204  final_rinse 2018-03-05 21:31:41       L2   \n",
       "13839        20017        204  final_rinse 2018-03-05 21:31:43       L2   \n",
       "\n",
       "        supply_flow  supply_pressure  return_temperature  return_conductivity  \\\n",
       "row_id                                                                          \n",
       "13835      8926.505         1.439019           53.754340             9.294569   \n",
       "13836      9009.693         1.465712           50.857204             8.735830   \n",
       "13837      9165.221         1.516927           48.470055             7.943024   \n",
       "13838      9252.025         1.560113           45.988860             7.108860   \n",
       "13839      9450.955         1.610677           43.645110             6.823575   \n",
       "\n",
       "        return_turbidity     ...       tank_temperature_caustic  \\\n",
       "row_id                       ...                                  \n",
       "13835           0.383391     ...                      82.219330   \n",
       "13836           0.372540     ...                      82.219330   \n",
       "13837           0.368924     ...                      82.197624   \n",
       "13838           0.372540     ...                      82.197624   \n",
       "13839           0.354456     ...                      82.219330   \n",
       "\n",
       "        tank_temperature_acid  tank_concentration_caustic  \\\n",
       "row_id                                                      \n",
       "13835               72.276474                   45.519928   \n",
       "13836               72.276474                   45.518127   \n",
       "13837               72.276474                   45.516660   \n",
       "13838               72.276474                   45.514927   \n",
       "13839               72.276474                   45.516262   \n",
       "\n",
       "        tank_concentration_acid  tank_lsh_caustic  tank_lsh_acid  \\\n",
       "row_id                                                             \n",
       "13835                 45.603252             False            0.0   \n",
       "13836                 45.603252             False            0.0   \n",
       "13837                 45.603252             False            0.0   \n",
       "13838                 45.603252             False            0.0   \n",
       "13839                 45.603252             False            0.0   \n",
       "\n",
       "        tank_lsh_clean_water  tank_lsh_pre_rinse  target_time_period  \\\n",
       "row_id                                                                 \n",
       "13835                  False                 0.0                True   \n",
       "13836                  False                 0.0                True   \n",
       "13837                  False                 0.0                True   \n",
       "13838                  False                 0.0                True   \n",
       "13839                  False                 0.0                True   \n",
       "\n",
       "             target  \n",
       "row_id               \n",
       "13835   1454.634597  \n",
       "13836   1499.701905  \n",
       "13837   1682.626857  \n",
       "13838   1680.258986  \n",
       "13839   1553.821926  \n",
       "\n",
       "[5 rows x 36 columns]"
      ]
     },
     "execution_count": 5,
     "metadata": {},
     "output_type": "execute_result"
    }
   ],
   "source": [
    "final_phase.head()"
   ]
  },
  {
   "cell_type": "code",
   "execution_count": 6,
   "metadata": {
    "colab": {
     "base_uri": "https://localhost:8080/",
     "height": 355
    },
    "colab_type": "code",
    "id": "gDQl4HXa_EYY",
    "outputId": "e6223c70-760d-4fe0-9412-339d59e56712"
   },
   "outputs": [
    {
     "data": {
      "image/png": "[encoded data removed]",
      "text/plain": [
       "<Figure size 1440x360 with 3 Axes>"
      ]
     },
     "metadata": {
      "needs_background": "light"
     },
     "output_type": "display_data"
    }
   ],
   "source": [
    "# plot flow, turbidity, and target \n",
    "import matplotlib.pyplot as plt\n",
    "\n",
    "fig, ax = plt.subplots(nrows=1, ncols=3, figsize=(20, 5))\n",
    "\n",
    "ax[0].plot(final_phase['return_flow'])\n",
    "ax[0].set_title('Return flow in final phase')\n",
    "\n",
    "ax[1].plot(final_phase['return_turbidity'], c='orange')\n",
    "ax[1].set_title('Return turbidity in final phase')\n",
    "\n",
    "ax[2].plot(final_phase['target'], c='green')\n",
    "ax[2].set_title('Turbidity in final phase in NTU.L');"
   ]
  },
  {
   "cell_type": "code",
   "execution_count": 7,
   "metadata": {
    "colab": {
     "base_uri": "https://localhost:8080/",
     "height": 35
    },
    "colab_type": "code",
    "id": "ZDhyYp1zAGKN",
    "outputId": "bb24ba73-fa0d-468c-927d-7dfeda67d275"
   },
   "outputs": [
    {
     "data": {
      "text/plain": [
       "103724.28729467509"
      ]
     },
     "execution_count": 7,
     "metadata": {},
     "output_type": "execute_result"
    }
   ],
   "source": [
    "#sum to get target\n",
    "final_phase['target'].sum()"
   ]
  },
  {
   "cell_type": "code",
   "execution_count": 8,
   "metadata": {
    "colab": {
     "base_uri": "https://localhost:8080/",
     "height": 52
    },
    "colab_type": "code",
    "id": "r9pUHlCILc7s",
    "outputId": "cb387dbd-8aa7-4579-db6a-4d397d80aac7"
   },
   "outputs": [
    {
     "data": {
      "text/plain": [
       "final_rinse_total_turbidity_liter    103724.287295\n",
       "Name: 20017, dtype: float64"
      ]
     },
     "execution_count": 8,
     "metadata": {},
     "output_type": "execute_result"
    }
   ],
   "source": [
    "#confirm that value matches the target label for this process_id\n",
    "train_labels.loc[20017]"
   ]
  },
  {
   "cell_type": "code",
   "execution_count": 10,
   "metadata": {
    "colab": {
     "base_uri": "https://localhost:8080/",
     "height": 379
    },
    "colab_type": "code",
    "id": "LiXZ3BArLc7z",
    "outputId": "9aa872c4-f3c9-4900-f21b-d8a5e7053df0"
   },
   "outputs": [
    {
     "data": {
      "text/plain": [
       "Text(0.5, 1.0, 'Количество процессов в $N$-й фазе')"
      ]
     },
     "execution_count": 10,
     "metadata": {},
     "output_type": "execute_result"
    },
    {
     "data": {
      "image/png": "[encoded data removed]",
      "text/plain": [
       "<Figure size 432x288 with 1 Axes>"
      ]
     },
     "metadata": {
      "needs_background": "light"
     },
     "output_type": "display_data"
    }
   ],
   "source": [
    "train_data.groupby('process_id')['phase'].nunique().value_counts().sort_index().plot.bar()\n",
    "plt.title(\"Количество процессов в $N$-й фазе\")"
   ]
  },
  {
   "cell_type": "markdown",
   "metadata": {
    "colab_type": "text",
    "id": "TFMWBKCLLc72"
   },
   "source": [
    "### Создадим уникальный индентификатор фазы для каждого процесса:\n"
   ]
  },
  {
   "cell_type": "code",
   "execution_count": 11,
   "metadata": {
    "colab": {},
    "colab_type": "code",
    "id": "MQNthbU-Lc74"
   },
   "outputs": [],
   "source": [
    "train_data['process_phase'] = train_data.process_id.astype(str) + '_' + train_data.phase.astype(str)\n",
    "process_phases = train_data.process_phase.unique()\n",
    "\n",
    "# randomly select 85% of phases to keep\n",
    "rng = np.random.RandomState(2019)\n",
    "to_keep = rng.choice(\n",
    "                process_phases,\n",
    "                size=np.int(len(process_phases) * 0.85),\n",
    "                replace=False)\n",
    "\n",
    "train_limited = train_data[train_data.process_phase.isin(to_keep)]\n",
    "\n",
    "# subset labels to match our training data\n",
    "train_labels = train_labels.loc[train_limited.process_id.unique()]"
   ]
  },
  {
   "cell_type": "code",
   "execution_count": 12,
   "metadata": {
    "colab": {
     "base_uri": "https://localhost:8080/",
     "height": 361
    },
    "colab_type": "code",
    "id": "k59NkuAqLc76",
    "outputId": "18fed134-621d-47ee-891a-999e0122ac39"
   },
   "outputs": [
    {
     "data": {
      "image/png": "[encoded data removed]",
      "text/plain": [
       "<Figure size 432x288 with 1 Axes>"
      ]
     },
     "metadata": {
      "needs_background": "light"
     },
     "output_type": "display_data"
    }
   ],
   "source": [
    "train_limited.groupby('process_id').phase.nunique().value_counts().sort_index().plot.bar()\n",
    "plt.title(\"Количество процессов с $N$-й фазой  (Подвыборка из тренировочной)\");"
   ]
  },
  {
   "cell_type": "markdown",
   "metadata": {
    "colab_type": "text",
    "id": "MjnVn4sFLc79"
   },
   "source": [
    "### Feature engineering"
   ]
  },
  {
   "cell_type": "code",
   "execution_count": 13,
   "metadata": {
    "colab": {
     "base_uri": "https://localhost:8080/",
     "height": 283
    },
    "colab_type": "code",
    "id": "Aq3tBiwYLc7-",
    "outputId": "151f4720-30ee-4b24-be95-cec1455eb7d7"
   },
   "outputs": [
    {
     "data": {
      "text/html": [
       "<div>\n",
       "<style scoped>\n",
       "    .dataframe tbody tr th:only-of-type {\n",
       "        vertical-align: middle;\n",
       "    }\n",
       "\n",
       "    .dataframe tbody tr th {\n",
       "        vertical-align: top;\n",
       "    }\n",
       "\n",
       "    .dataframe thead th {\n",
       "        text-align: right;\n",
       "    }\n",
       "</style>\n",
       "<table border=\"1\" class=\"dataframe\">\n",
       "  <thead>\n",
       "    <tr style=\"text-align: right;\">\n",
       "      <th></th>\n",
       "      <th>pipeline_L3</th>\n",
       "      <th>pipeline_L4</th>\n",
       "      <th>pipeline_L7</th>\n",
       "      <th>pipeline_L12</th>\n",
       "      <th>num_phases</th>\n",
       "    </tr>\n",
       "    <tr>\n",
       "      <th>process_id</th>\n",
       "      <th></th>\n",
       "      <th></th>\n",
       "      <th></th>\n",
       "      <th></th>\n",
       "      <th></th>\n",
       "    </tr>\n",
       "  </thead>\n",
       "  <tbody>\n",
       "    <tr>\n",
       "      <th>20001</th>\n",
       "      <td>0</td>\n",
       "      <td>1</td>\n",
       "      <td>0</td>\n",
       "      <td>0</td>\n",
       "      <td>5</td>\n",
       "    </tr>\n",
       "    <tr>\n",
       "      <th>20002</th>\n",
       "      <td>1</td>\n",
       "      <td>0</td>\n",
       "      <td>0</td>\n",
       "      <td>0</td>\n",
       "      <td>2</td>\n",
       "    </tr>\n",
       "    <tr>\n",
       "      <th>20003</th>\n",
       "      <td>1</td>\n",
       "      <td>0</td>\n",
       "      <td>0</td>\n",
       "      <td>0</td>\n",
       "      <td>4</td>\n",
       "    </tr>\n",
       "    <tr>\n",
       "      <th>20004</th>\n",
       "      <td>0</td>\n",
       "      <td>0</td>\n",
       "      <td>1</td>\n",
       "      <td>0</td>\n",
       "      <td>4</td>\n",
       "    </tr>\n",
       "    <tr>\n",
       "      <th>20005</th>\n",
       "      <td>0</td>\n",
       "      <td>0</td>\n",
       "      <td>1</td>\n",
       "      <td>0</td>\n",
       "      <td>1</td>\n",
       "    </tr>\n",
       "  </tbody>\n",
       "</table>\n",
       "</div>"
      ],
      "text/plain": [
       "            pipeline_L3  pipeline_L4  pipeline_L7  pipeline_L12  num_phases\n",
       "process_id                                                                 \n",
       "20001                 0            1            0             0           5\n",
       "20002                 1            0            0             0           2\n",
       "20003                 1            0            0             0           4\n",
       "20004                 0            0            1             0           4\n",
       "20005                 0            0            1             0           1"
      ]
     },
     "execution_count": 13,
     "metadata": {},
     "output_type": "execute_result"
    }
   ],
   "source": [
    "def prep_metadata(df):\n",
    "    # select process_id and pipeline\n",
    "    meta = df[['process_id', 'pipeline']].drop_duplicates().set_index('process_id') \n",
    "    \n",
    "    # convert categorical pipeline data to dummy variables\n",
    "    meta = pd.get_dummies(meta)\n",
    "    \n",
    "    # pipeline L12 not in test data\n",
    "    if 'L12' not in meta.columns:\n",
    "        meta['pipeline_L12'] = 0\n",
    "    \n",
    "    # calculate number of phases for each process_object\n",
    "    meta['num_phases'] = df.groupby('process_id')['phase'].apply(lambda x: x.nunique())\n",
    "    \n",
    "    return meta\n",
    "\n",
    "# show example for first 5,000 observations\n",
    "prep_metadata(train_limited.head(5000))"
   ]
  },
  {
   "cell_type": "code",
   "execution_count": 14,
   "metadata": {
    "colab": {},
    "colab_type": "code",
    "id": "B2tYMISULc8D"
   },
   "outputs": [],
   "source": [
    "# variables we'll use to create our time series features\n",
    "ts_cols = [\n",
    "    'process_id',\n",
    "    'supply_flow',\n",
    "    'supply_pressure',\n",
    "    'return_temperature',\n",
    "    'return_conductivity',\n",
    "    'return_turbidity',\n",
    "    'return_flow',\n",
    "    'tank_level_pre_rinse',\n",
    "    'tank_level_caustic',\n",
    "    'tank_level_acid',\n",
    "    'tank_level_clean_water',\n",
    "    'tank_temperature_pre_rinse',\n",
    "    'tank_temperature_caustic',\n",
    "    'tank_temperature_acid',\n",
    "    'tank_concentration_caustic',\n",
    "    'tank_concentration_acid',\n",
    "]"
   ]
  },
  {
   "cell_type": "code",
   "execution_count": 15,
   "metadata": {
    "colab": {
     "base_uri": "https://localhost:8080/",
     "height": 343
    },
    "colab_type": "code",
    "id": "ZayTJJFILc8I",
    "outputId": "e526aabd-a901-4393-f67e-2a0679a4a3a7"
   },
   "outputs": [
    {
     "data": {
      "text/html": [
       "<div>\n",
       "<style scoped>\n",
       "    .dataframe tbody tr th:only-of-type {\n",
       "        vertical-align: middle;\n",
       "    }\n",
       "\n",
       "    .dataframe tbody tr th {\n",
       "        vertical-align: top;\n",
       "    }\n",
       "\n",
       "    .dataframe thead tr th {\n",
       "        text-align: left;\n",
       "    }\n",
       "\n",
       "    .dataframe thead tr:last-of-type th {\n",
       "        text-align: right;\n",
       "    }\n",
       "</style>\n",
       "<table border=\"1\" class=\"dataframe\">\n",
       "  <thead>\n",
       "    <tr>\n",
       "      <th></th>\n",
       "      <th colspan=\"7\" halign=\"left\">supply_flow</th>\n",
       "      <th colspan=\"3\" halign=\"left\">supply_pressure</th>\n",
       "      <th>...</th>\n",
       "      <th colspan=\"3\" halign=\"left\">tank_concentration_caustic</th>\n",
       "      <th colspan=\"7\" halign=\"left\">tank_concentration_acid</th>\n",
       "    </tr>\n",
       "    <tr>\n",
       "      <th></th>\n",
       "      <th>min</th>\n",
       "      <th>max</th>\n",
       "      <th>mean</th>\n",
       "      <th>std</th>\n",
       "      <th>&lt;lambda&gt;</th>\n",
       "      <th>sum</th>\n",
       "      <th>mad</th>\n",
       "      <th>min</th>\n",
       "      <th>max</th>\n",
       "      <th>mean</th>\n",
       "      <th>...</th>\n",
       "      <th>&lt;lambda&gt;</th>\n",
       "      <th>sum</th>\n",
       "      <th>mad</th>\n",
       "      <th>min</th>\n",
       "      <th>max</th>\n",
       "      <th>mean</th>\n",
       "      <th>std</th>\n",
       "      <th>&lt;lambda&gt;</th>\n",
       "      <th>sum</th>\n",
       "      <th>mad</th>\n",
       "    </tr>\n",
       "    <tr>\n",
       "      <th>process_id</th>\n",
       "      <th></th>\n",
       "      <th></th>\n",
       "      <th></th>\n",
       "      <th></th>\n",
       "      <th></th>\n",
       "      <th></th>\n",
       "      <th></th>\n",
       "      <th></th>\n",
       "      <th></th>\n",
       "      <th></th>\n",
       "      <th></th>\n",
       "      <th></th>\n",
       "      <th></th>\n",
       "      <th></th>\n",
       "      <th></th>\n",
       "      <th></th>\n",
       "      <th></th>\n",
       "      <th></th>\n",
       "      <th></th>\n",
       "      <th></th>\n",
       "      <th></th>\n",
       "    </tr>\n",
       "  </thead>\n",
       "  <tbody>\n",
       "    <tr>\n",
       "      <th>20001</th>\n",
       "      <td>14.467592</td>\n",
       "      <td>59396.703</td>\n",
       "      <td>48103.304716</td>\n",
       "      <td>14069.823956</td>\n",
       "      <td>35188.999460</td>\n",
       "      <td>7.850459e+07</td>\n",
       "      <td>10400.247054</td>\n",
       "      <td>-0.036024</td>\n",
       "      <td>2.223741</td>\n",
       "      <td>1.650960</td>\n",
       "      <td>...</td>\n",
       "      <td>45.527483</td>\n",
       "      <td>73951.575370</td>\n",
       "      <td>0.256465</td>\n",
       "      <td>39.447857</td>\n",
       "      <td>52.411568</td>\n",
       "      <td>44.704166</td>\n",
       "      <td>0.606253</td>\n",
       "      <td>44.653038</td>\n",
       "      <td>72957.198534</td>\n",
       "      <td>0.323908</td>\n",
       "    </tr>\n",
       "    <tr>\n",
       "      <th>20002</th>\n",
       "      <td>7.233796</td>\n",
       "      <td>33951.820</td>\n",
       "      <td>17058.979612</td>\n",
       "      <td>13900.321649</td>\n",
       "      <td>19899.910685</td>\n",
       "      <td>3.070616e+06</td>\n",
       "      <td>13362.319444</td>\n",
       "      <td>-0.034071</td>\n",
       "      <td>1.863715</td>\n",
       "      <td>1.050162</td>\n",
       "      <td>...</td>\n",
       "      <td>45.313808</td>\n",
       "      <td>8169.229960</td>\n",
       "      <td>0.172684</td>\n",
       "      <td>44.185707</td>\n",
       "      <td>46.285015</td>\n",
       "      <td>44.765346</td>\n",
       "      <td>0.691738</td>\n",
       "      <td>45.066195</td>\n",
       "      <td>8057.762317</td>\n",
       "      <td>0.603282</td>\n",
       "    </tr>\n",
       "    <tr>\n",
       "      <th>20003</th>\n",
       "      <td>-1240.596100</td>\n",
       "      <td>84754.770</td>\n",
       "      <td>27647.962599</td>\n",
       "      <td>11689.746443</td>\n",
       "      <td>7078.236811</td>\n",
       "      <td>5.825426e+07</td>\n",
       "      <td>9382.523219</td>\n",
       "      <td>-0.034071</td>\n",
       "      <td>3.859375</td>\n",
       "      <td>2.466404</td>\n",
       "      <td>...</td>\n",
       "      <td>44.487910</td>\n",
       "      <td>95016.038589</td>\n",
       "      <td>0.308074</td>\n",
       "      <td>41.835228</td>\n",
       "      <td>46.888943</td>\n",
       "      <td>44.439079</td>\n",
       "      <td>0.466711</td>\n",
       "      <td>43.145574</td>\n",
       "      <td>93633.139862</td>\n",
       "      <td>0.250657</td>\n",
       "    </tr>\n",
       "    <tr>\n",
       "      <th>20004</th>\n",
       "      <td>-43.402780</td>\n",
       "      <td>49537.035</td>\n",
       "      <td>28037.061740</td>\n",
       "      <td>15469.554587</td>\n",
       "      <td>1938.394319</td>\n",
       "      <td>2.828940e+07</td>\n",
       "      <td>12516.479125</td>\n",
       "      <td>-0.009549</td>\n",
       "      <td>0.482422</td>\n",
       "      <td>0.258848</td>\n",
       "      <td>...</td>\n",
       "      <td>45.430164</td>\n",
       "      <td>45776.207534</td>\n",
       "      <td>0.249632</td>\n",
       "      <td>44.154810</td>\n",
       "      <td>45.862520</td>\n",
       "      <td>44.673384</td>\n",
       "      <td>0.367765</td>\n",
       "      <td>44.843282</td>\n",
       "      <td>45075.444908</td>\n",
       "      <td>0.322484</td>\n",
       "    </tr>\n",
       "    <tr>\n",
       "      <th>20005</th>\n",
       "      <td>0.000000</td>\n",
       "      <td>31116.176</td>\n",
       "      <td>21662.256052</td>\n",
       "      <td>10896.016096</td>\n",
       "      <td>21662.256052</td>\n",
       "      <td>1.559682e+06</td>\n",
       "      <td>9557.005881</td>\n",
       "      <td>-0.023438</td>\n",
       "      <td>0.487196</td>\n",
       "      <td>0.299428</td>\n",
       "      <td>...</td>\n",
       "      <td>44.715849</td>\n",
       "      <td>3219.541139</td>\n",
       "      <td>0.082003</td>\n",
       "      <td>43.605465</td>\n",
       "      <td>44.412254</td>\n",
       "      <td>44.004267</td>\n",
       "      <td>0.273263</td>\n",
       "      <td>44.004267</td>\n",
       "      <td>3168.307248</td>\n",
       "      <td>0.238562</td>\n",
       "    </tr>\n",
       "  </tbody>\n",
       "</table>\n",
       "<p>5 rows × 105 columns</p>\n",
       "</div>"
      ],
      "text/plain": [
       "            supply_flow                                                       \\\n",
       "                    min        max          mean           std      <lambda>   \n",
       "process_id                                                                     \n",
       "20001         14.467592  59396.703  48103.304716  14069.823956  35188.999460   \n",
       "20002          7.233796  33951.820  17058.979612  13900.321649  19899.910685   \n",
       "20003      -1240.596100  84754.770  27647.962599  11689.746443   7078.236811   \n",
       "20004        -43.402780  49537.035  28037.061740  15469.554587   1938.394319   \n",
       "20005          0.000000  31116.176  21662.256052  10896.016096  21662.256052   \n",
       "\n",
       "                                       supply_pressure                      \\\n",
       "                     sum           mad             min       max      mean   \n",
       "process_id                                                                   \n",
       "20001       7.850459e+07  10400.247054       -0.036024  2.223741  1.650960   \n",
       "20002       3.070616e+06  13362.319444       -0.034071  1.863715  1.050162   \n",
       "20003       5.825426e+07   9382.523219       -0.034071  3.859375  2.466404   \n",
       "20004       2.828940e+07  12516.479125       -0.009549  0.482422  0.258848   \n",
       "20005       1.559682e+06   9557.005881       -0.023438  0.487196  0.299428   \n",
       "\n",
       "              ...    tank_concentration_caustic                          \\\n",
       "              ...                      <lambda>           sum       mad   \n",
       "process_id    ...                                                         \n",
       "20001         ...                     45.527483  73951.575370  0.256465   \n",
       "20002         ...                     45.313808   8169.229960  0.172684   \n",
       "20003         ...                     44.487910  95016.038589  0.308074   \n",
       "20004         ...                     45.430164  45776.207534  0.249632   \n",
       "20005         ...                     44.715849   3219.541139  0.082003   \n",
       "\n",
       "           tank_concentration_acid                                             \\\n",
       "                               min        max       mean       std   <lambda>   \n",
       "process_id                                                                      \n",
       "20001                    39.447857  52.411568  44.704166  0.606253  44.653038   \n",
       "20002                    44.185707  46.285015  44.765346  0.691738  45.066195   \n",
       "20003                    41.835228  46.888943  44.439079  0.466711  43.145574   \n",
       "20004                    44.154810  45.862520  44.673384  0.367765  44.843282   \n",
       "20005                    43.605465  44.412254  44.004267  0.273263  44.004267   \n",
       "\n",
       "                                    \n",
       "                     sum       mad  \n",
       "process_id                          \n",
       "20001       72957.198534  0.323908  \n",
       "20002        8057.762317  0.603282  \n",
       "20003       93633.139862  0.250657  \n",
       "20004       45075.444908  0.322484  \n",
       "20005        3168.307248  0.238562  \n",
       "\n",
       "[5 rows x 105 columns]"
      ]
     },
     "execution_count": 15,
     "metadata": {},
     "output_type": "execute_result"
    }
   ],
   "source": [
    " import scipy as sc\n",
    "def prep_time_series_features(df, columns=None):\n",
    "    if columns is None:\n",
    "        columns = df.columns\n",
    "    \n",
    "    ts_df = df[ts_cols].set_index('process_id')\n",
    "    \n",
    "    # create features: min, max, mean, standard deviation, and mean of the last ten observations\n",
    "    ts_features = ts_df.groupby('process_id').aggregate(['min', 'max', 'mean', 'std',\n",
    "                                                         lambda x: x.tail(110).mean(),\n",
    "                                                         'sum', 'mad'])\n",
    "                                                         \n",
    "\n",
    "    return ts_features\n",
    "\n",
    "# show example for first 5,000 observations\n",
    "prep_time_series_features(train_limited.head(5000), columns=ts_cols)"
   ]
  },
  {
   "cell_type": "code",
   "execution_count": 16,
   "metadata": {
    "colab": {},
    "colab_type": "code",
    "id": "cuYQhwTiLc8P"
   },
   "outputs": [],
   "source": [
    "def create_feature_matrix(df):\n",
    "    metadata = prep_metadata(df)\n",
    "    time_series = prep_time_series_features(df)\n",
    "    \n",
    "    # join metadata and time series features into a single dataframe\n",
    "    feature_matrix = pd.concat([metadata, time_series], axis=1)\n",
    "    \n",
    "    \n",
    "    return feature_matrix"
   ]
  },
  {
   "cell_type": "code",
   "execution_count": 17,
   "metadata": {
    "colab": {},
    "colab_type": "code",
    "id": "qiM86gn1Lc8U"
   },
   "outputs": [],
   "source": [
    "train_features = create_feature_matrix(train_limited)"
   ]
  },
  {
   "cell_type": "code",
   "execution_count": null,
   "metadata": {
    "colab": {
     "base_uri": "https://localhost:8080/",
     "height": 299
    },
    "colab_type": "code",
    "id": "8yCsDOHlagNc",
    "outputId": "d1744b5e-5da4-44a7-975d-710a16f1e16a"
   },
   "outputs": [],
   "source": []
  },
  {
   "cell_type": "markdown",
   "metadata": {
    "colab_type": "text",
    "id": "MKDE6JHnLc8X"
   },
   "source": [
    "# Строим модели и тестируем их:"
   ]
  },
  {
   "cell_type": "markdown",
   "metadata": {
    "colab_type": "text",
    "id": "z60rb5GDOtaK"
   },
   "source": [
    "**Напишем функцию, которая считает ошибку предсказания. Для того, чтобы её можно было использовать вместе с sklearn воспользуемся sklearn.metrics.make_scorer:**"
   ]
  },
  {
   "cell_type": "code",
   "execution_count": 18,
   "metadata": {
    "colab": {},
    "colab_type": "code",
    "id": "XAoKLw7QO17I"
   },
   "outputs": [],
   "source": [
    "def mean_abs_percentage_err(y_pred, y_true):\n",
    "    return np.mean(np.abs(y_pred - y_true) / np.maximum(np.abs(y_true), np.full(np.shape(y_true), 290000)))\n",
    "\n",
    "from sklearn.metrics import make_scorer\n",
    "mape_modified_scorer = make_scorer(mean_abs_percentage_err, greater_is_better=False)\n",
    "    "
   ]
  },
  {
   "cell_type": "code",
   "execution_count": null,
   "metadata": {},
   "outputs": [],
   "source": []
  },
  {
   "cell_type": "markdown",
   "metadata": {},
   "source": [
    "## Воспользуемся TimeSeriesSplit для проведения кросс-валидации для временных рядом и GridSearchCV, чтобы найти оптимальные параметры для "
   ]
  },
  {
   "cell_type": "code",
   "execution_count": 19,
   "metadata": {
    "colab": {},
    "colab_type": "code",
    "id": "hqgJonL2Lc8Y"
   },
   "outputs": [],
   "source": [
    "from sklearn.ensemble import RandomForestRegressor\n",
    "from sklearn.model_selection import TimeSeriesSplit, GridSearchCV\n",
    "from sklearn.linear_model import SGDRegressor\n",
    "from sklearn.model_selection import train_test_split\n",
    "X_train, X_test, y_train, y_test = train_test_split(train_features, np.ravel(train_labels),\n",
    "                                    train_size=0.7, random_state=13)\n",
    "\n",
    "rf_regressor = RandomForestRegressor(n_estimators=50, random_state=13, n_jobs=-1, max_leaf_nodes=165, \n",
    "                                     min_samples_leaf=8, min_samples_split=0.005\n",
    "#                                     max_depth=23,\n",
    "#                                    max_leaf_nodes= 100,\n",
    "#                                     min_samples_leaf = 5,\n",
    "                                     \n",
    "      \n",
    "                                    #max_features=17,\n",
    "                                   # criterion = 'mse',\n",
    "                                  \n",
    "                                    )\n",
    "rf_param_grid =  {\n",
    "                  'n_estimators' : [50],\n",
    "                  'random_state' : [13], \n",
    "                  #'n_jobs=-1' : [-1],\n",
    "                  'max_depth' : [35],\n",
    "                  'max_features' : [40, 50, 80],\n",
    "                  'min_weight_fraction_leaf' : [0.5, 0.1, 0.01, 0.0001,  0.00001],\n",
    "                  'min_impurity_decrease' : [0.00001, 0.001, 0.01, 0.1, 1],\n",
    "                  'min_impurity_split' : [0.00001, 0.001, 0.01, 0.1, 0.5]\n",
    "                 # 'min_samples_leaf' : list(np.arange(2, 13)) + [20, 25, 50],\n",
    "                 # 'max_leaf_nodes' : list(np.arange(2, 13)) + [20, 25, 50]\n",
    "                                        }                 \n",
    "rf_grid = GridSearchCV(estimator=rf_regressor, cv=TimeSeriesSplit(5), verbose=2,\n",
    "                       scoring=mape_modified_scorer, n_jobs=-1, param_grid=rf_param_grid)\n",
    "\n",
    "#sgd_regr = SGDRegressor(penalty='elasticnet', penalty='l1')"
   ]
  },
  {
   "cell_type": "code",
   "execution_count": 357,
   "metadata": {},
   "outputs": [],
   "source": [
    "#rf_grid.fit(X_train, y_train)"
   ]
  },
  {
   "cell_type": "markdown",
   "metadata": {
    "colab": {
     "base_uri": "https://localhost:8080/",
     "height": 141
    },
    "colab_type": "code",
    "id": "NIt-uIy0NRzu",
    "outputId": "87e035e7-27fc-4a13-c1e6-111e2e238a0e"
   },
   "source": [
    "## Оптимальные параметры и лучший результат:"
   ]
  },
  {
   "cell_type": "code",
   "execution_count": 358,
   "metadata": {},
   "outputs": [],
   "source": [
    "#rf_grid.best_params_, rf_grid.best_score_\n",
    "#\n",
    "#({'max_depth': 35,\n",
    "#  'max_features': 40,\n",
    "#  'min_impurity_decrease': 0.001,\n",
    "#  'min_impurity_split': 0.001,\n",
    "#  'min_weight_fraction_leaf': 0.0001,\n",
    "#  'n_estimators': 50,\n",
    "#  'random_state': 13},\n",
    "# -0.6484711766257679)"
   ]
  },
  {
   "cell_type": "code",
   "execution_count": 43,
   "metadata": {
    "scrolled": true
   },
   "outputs": [
    {
     "data": {
      "text/plain": [
       "RandomForestRegressor(bootstrap=False, criterion='mse', max_depth=35,\n",
       "           max_features=100, max_leaf_nodes=200,\n",
       "           min_impurity_decrease=0.001, min_impurity_split=None,\n",
       "           min_samples_leaf=8, min_samples_split=0.005,\n",
       "           min_weight_fraction_leaf=0.0001, n_estimators=250, n_jobs=None,\n",
       "           oob_score=False, random_state=13, verbose=0, warm_start=False)"
      ]
     },
     "execution_count": 43,
     "metadata": {},
     "output_type": "execute_result"
    }
   ],
   "source": [
    "#rf_grid.best_params_, rf_grid.best_score_\n",
    "#({'max_depth': 20,\n",
    "#  'max_features': 40,\n",
    "#  'min_samples_leaf': 5,\n",
    "#  'n_estimators': 100,\n",
    "#  'random_state': 13},\n",
    "# -0.6180501020995538)\n",
    "#{'max_depth': 20,\n",
    "#  'max_features': 50,\n",
    "#  'max_leaf_nodes': 50,\n",
    "#  'min_samples_leaf': 3,\n",
    "#  'n_estimators': 100,\n",
    "#  'random_state': 13},\n",
    "# -0.6628379946829989\n",
    "\n",
    "rf_after_grid = RandomForestRegressor(n_estimators=250, max_depth=35, max_features=100, \n",
    "                                      min_samples_leaf=8, max_leaf_nodes = 200, min_samples_split=0.005,\n",
    "                                      min_weight_fraction_leaf = 0.0001,\n",
    "                                      min_impurity_decrease = 0.001,\n",
    "                                      bootstrap=False,\n",
    "                                      random_state=13)\n",
    "rf_after_grid.fit(X_train, y_train)\n",
    "#rf_grid.best_params_, rf_grid.best_score_"
   ]
  },
  {
   "cell_type": "code",
   "execution_count": 44,
   "metadata": {},
   "outputs": [
    {
     "data": {
      "text/plain": [
       "0.009414786346846005"
      ]
     },
     "execution_count": 44,
     "metadata": {},
     "output_type": "execute_result"
    }
   ],
   "source": [
    "mean_abs_percentage_err(rf_after_grid.predict(X_test), y_test) - 0.522239637086989"
   ]
  },
  {
   "cell_type": "markdown",
   "metadata": {},
   "source": [
    "## Напишем функцию, которая тестирует модели на кросс-валидации и отложенной выборке"
   ]
  },
  {
   "cell_type": "code",
   "execution_count": 45,
   "metadata": {},
   "outputs": [],
   "source": [
    "from sklearn.model_selection import cross_val_score\n",
    "def models_validation(X, y, models, folds):\n",
    "    tsCV = TimeSeriesSplit(5)\n",
    "    X_train, X_test, y_train, y_test = train_test_split(X, y, train_size = 0.7, random_state = 13)\n",
    "    i = 0\n",
    "    for model in models:\n",
    "        i = i + 1\n",
    "        model.fit(X_train, y_train)\n",
    "        print(i, 'model cross-val:', np.mean(cross_val_score(model, X, y, scoring=mape_modified_scorer, n_jobs=-1)))\n",
    "        print(i, 'model on hold data:', mean_abs_percentage_err(model.predict(X_test), y_test))\n",
    "        print('\\n')\n",
    "    return 0\n",
    "    \n",
    "        "
   ]
  },
  {
   "cell_type": "code",
   "execution_count": 46,
   "metadata": {
    "scrolled": true
   },
   "outputs": [
    {
     "name": "stdout",
     "output_type": "stream",
     "text": [
      "1 model cross-val: -0.3863346334068305\n",
      "1 model on hold data: 0.531654423433835\n",
      "\n",
      "\n"
     ]
    },
    {
     "data": {
      "text/plain": [
       "0"
      ]
     },
     "execution_count": 46,
     "metadata": {},
     "output_type": "execute_result"
    }
   ],
   "source": [
    "models_validation(train_features, np.ravel(train_labels), [rf_after_grid], folds=5)"
   ]
  },
  {
   "cell_type": "code",
   "execution_count": 47,
   "metadata": {},
   "outputs": [],
   "source": [
    "from sklearn.linear_model import ElasticNet, Lasso, Ridge\n",
    "from sklearn.ensemble import BaggingRegressor, ExtraTreesRegressor\n",
    "from sklearn.svm import SVR\n",
    "extra_tree = ExtraTreesRegressor(criterion='mse', n_estimators=200, max_depth=45, max_features=70, \n",
    "                                      min_samples_leaf=5, #min_samples_split=0.005,\n",
    "                                      #min_weight_fraction_leaf = 0.0001,\n",
    "                                      #min_impurity_decrease = 0.001,\n",
    "                                      bootstrap=False,\n",
    "                                      random_state=13)\n",
    "bagging = BaggingRegressor(max_samples=0.85, n_estimators=10, )\n",
    "svr = SVR(C=0.01, epsilon=1, kernel='sigmoid', coef0=1, max_iter=1000)\n",
    "rdg = Ridge()\n",
    "lss = Lasso()\n",
    "els = ElasticNet(copy_X=True)"
   ]
  },
  {
   "cell_type": "code",
   "execution_count": 48,
   "metadata": {},
   "outputs": [
    {
     "name": "stdout",
     "output_type": "stream",
     "text": [
      "1 model cross-val: -0.36926322584398014\n",
      "1 model on hold data: 0.5834394514334852\n",
      "\n",
      "\n",
      "2 model cross-val: -0.39766766179525354\n",
      "2 model on hold data: 0.6356260779238188\n",
      "\n",
      "\n",
      "3 model cross-val: -1.9357838416141087\n",
      "3 model on hold data: 1.2796595374376702\n",
      "\n",
      "\n",
      "4 model cross-val: -1.0659279480750794\n",
      "4 model on hold data: 2.6599163687550664\n",
      "\n",
      "\n",
      "5 model cross-val: -1.0817484241453887\n",
      "5 model on hold data: 2.667556553853688\n",
      "\n",
      "\n",
      "6 model cross-val: -0.9633636489029488\n",
      "6 model on hold data: 2.233628665929417\n",
      "\n",
      "\n"
     ]
    },
    {
     "data": {
      "text/plain": [
       "0"
      ]
     },
     "execution_count": 48,
     "metadata": {},
     "output_type": "execute_result"
    }
   ],
   "source": [
    "models_validation(train_features, np.ravel(train_labels), [extra_tree, bagging, svr, rdg, lss, els], folds=5)"
   ]
  },
  {
   "cell_type": "code",
   "execution_count": 49,
   "metadata": {},
   "outputs": [
    {
     "data": {
      "text/plain": [
       "RandomForestRegressor(bootstrap=False, criterion='mse', max_depth=35,\n",
       "           max_features=100, max_leaf_nodes=200,\n",
       "           min_impurity_decrease=0.001, min_impurity_split=None,\n",
       "           min_samples_leaf=8, min_samples_split=0.005,\n",
       "           min_weight_fraction_leaf=0.0001, n_estimators=250, n_jobs=None,\n",
       "           oob_score=False, random_state=13, verbose=0, warm_start=False)"
      ]
     },
     "execution_count": 49,
     "metadata": {},
     "output_type": "execute_result"
    }
   ],
   "source": [
    "rf_after_grid.fit(train_features, np.ravel(train_labels))"
   ]
  },
  {
   "cell_type": "code",
   "execution_count": 50,
   "metadata": {
    "colab": {},
    "colab_type": "code",
    "id": "LZF6-tgCWqAa"
   },
   "outputs": [],
   "source": [
    "test_features = create_feature_matrix(test_data)\n"
   ]
  },
  {
   "cell_type": "code",
   "execution_count": 51,
   "metadata": {},
   "outputs": [],
   "source": [
    "preds = rf_after_grid.predict(test_features)"
   ]
  },
  {
   "cell_type": "code",
   "execution_count": 52,
   "metadata": {
    "colab": {},
    "colab_type": "code",
    "id": "6sD52h7TWtfa"
   },
   "outputs": [],
   "source": [
    "submission_format = pd.read_csv('./data/submission_format.csv', index_col=0)"
   ]
  },
  {
   "cell_type": "code",
   "execution_count": 53,
   "metadata": {
    "colab": {},
    "colab_type": "code",
    "id": "HcF-1a7jd7Ai"
   },
   "outputs": [],
   "source": [
    "my_submission = pd.DataFrame(data=preds,\n",
    "                             columns=submission_format.columns,\n",
    "                             index=submission_format.index)"
   ]
  },
  {
   "cell_type": "code",
   "execution_count": 54,
   "metadata": {
    "colab": {},
    "colab_type": "code",
    "id": "FnhOgjoCd-Dz"
   },
   "outputs": [],
   "source": [
    "my_submission.to_csv('./submissions/6th_try_to_beat_benchmark.csv')"
   ]
  },
  {
   "cell_type": "code",
   "execution_count": 41,
   "metadata": {},
   "outputs": [
    {
     "data": {
      "text/plain": [
       "RandomForestRegressor(bootstrap=False, criterion='mse', max_depth=35,\n",
       "           max_features=50, max_leaf_nodes=165, min_impurity_decrease=0.0,\n",
       "           min_impurity_split=None, min_samples_leaf=8,\n",
       "           min_samples_split=0.005, min_weight_fraction_leaf=0.0,\n",
       "           n_estimators=275, n_jobs=None, oob_score=False, random_state=13,\n",
       "           verbose=0, warm_start=False)"
      ]
     },
     "execution_count": 41,
     "metadata": {},
     "output_type": "execute_result"
    }
   ],
   "source": [
    "rf_after_grid.fit(X_train, y_train)"
   ]
  },
  {
   "cell_type": "code",
   "execution_count": 79,
   "metadata": {},
   "outputs": [
    {
     "data": {
      "text/plain": [
       "(-0.549157172260939, 0.9148239861830831)"
      ]
     },
     "execution_count": 79,
     "metadata": {},
     "output_type": "execute_result"
    }
   ],
   "source": [
    "mape_modified_scorer(rf_after_grid, X_test, y_test), mean_abs_percentage_err(rf_after_grid.predict(X_test), y_test)"
   ]
  },
  {
   "cell_type": "code",
   "execution_count": null,
   "metadata": {},
   "outputs": [],
   "source": []
  },
  {
   "cell_type": "code",
   "execution_count": 89,
   "metadata": {},
   "outputs": [
    {
     "name": "stdout",
     "output_type": "stream",
     "text": [
      "Fitting 5 folds for each of 432 candidates, totalling 2160 fits\n"
     ]
    },
    {
     "name": "stderr",
     "output_type": "stream",
     "text": [
      "[Parallel(n_jobs=1)]: Using backend SequentialBackend with 1 concurrent workers.\n",
      "[Parallel(n_jobs=1)]: Done 2160 out of 2160 | elapsed:   12.1s finished\n"
     ]
    },
    {
     "data": {
      "text/plain": [
       "GridSearchCV(cv=TimeSeriesSplit(max_train_size=None, n_splits=5),\n",
       "       error_score='raise-deprecating',\n",
       "       estimator=Ridge(alpha=1.0, copy_X=True, fit_intercept=True, max_iter=500,\n",
       "   normalize=True, random_state=None, solver='auto', tol=0.001),\n",
       "       fit_params=None, iid='warn', n_jobs=None,\n",
       "       param_grid={'alpha': [1.001, 20000, 1e-08, 1e-05, 4e-05, 0.5, 0.8, 0.9], 'tol': [0.1, 0.10020000000000001, 0.1004, 0.10060000000000001, 0.1008, 0.101, 0.10120000000000001, 0.1014, 0.10160000000000001, 0.1018, 0.10200000000000001, 0.1022, 0.1024, 0.10260000000000001, 0.1028, 0.10300000000000001, 0.10... 0.10880000000000001, 0.109, 0.1092, 0.10940000000000001, 0.1096, 0.10980000000000001, 1, 2, 5, 10]},\n",
       "       pre_dispatch='2*n_jobs', refit=True, return_train_score='warn',\n",
       "       scoring=make_scorer(mean_abs_percentage_err, greater_is_better=False),\n",
       "       verbose=1)"
      ]
     },
     "execution_count": 89,
     "metadata": {},
     "output_type": "execute_result"
    }
   ],
   "source": [
    "from sklearn.linear_model import Ridge\n",
    "from sklearn.linear_model import LinearRegression\n",
    "ridge_param_grid = {'alpha' : [1.001, 20000, 0.00000001, 0.00001, 0.00004, 0.5, 0.8, 0.9],\n",
    "                    'tol' : list(0.1 + np.arange(50) / 5000) + [1, 2, 5, 10]}\n",
    "ridge = Ridge(normalize=True, fit_intercept=True, max_iter=500 )\n",
    "ridge_grid = GridSearchCV(estimator=ridge, param_grid=ridge_param_grid, cv=TimeSeriesSplit(5), \n",
    "                         verbose=1, scoring=mape_modified_scorer)\n",
    "ridge_grid.fit(X_train, y_train)"
   ]
  },
  {
   "cell_type": "code",
   "execution_count": 90,
   "metadata": {},
   "outputs": [
    {
     "data": {
      "text/plain": [
       "{'alpha': 1.001, 'tol': 0.1}"
      ]
     },
     "execution_count": 90,
     "metadata": {},
     "output_type": "execute_result"
    }
   ],
   "source": [
    "ridge_grid.best_params_"
   ]
  },
  {
   "cell_type": "code",
   "execution_count": 91,
   "metadata": {
    "scrolled": true
   },
   "outputs": [
    {
     "data": {
      "text/plain": [
       "(-0.8668668309153095, 2.147872467088798)"
      ]
     },
     "execution_count": 91,
     "metadata": {},
     "output_type": "execute_result"
    }
   ],
   "source": [
    "mape_modified_scorer(ridge_grid, X_test, y_test), mean_abs_percentage_err(ridge_grid.predict(X_test), y_test)"
   ]
  },
  {
   "cell_type": "code",
   "execution_count": 56,
   "metadata": {
    "colab": {},
    "colab_type": "code",
    "id": "LZF6-tgCWqAa"
   },
   "outputs": [],
   "source": [
    "preds = sgd.predict(test_features)"
   ]
  },
  {
   "cell_type": "code",
   "execution_count": 57,
   "metadata": {
    "colab": {},
    "colab_type": "code",
    "id": "6sD52h7TWtfa"
   },
   "outputs": [],
   "source": [
    "submission_format = pd.read_csv('./data/submission_format.csv', index_col=0)"
   ]
  },
  {
   "cell_type": "code",
   "execution_count": 58,
   "metadata": {
    "colab": {},
    "colab_type": "code",
    "id": "HcF-1a7jd7Ai"
   },
   "outputs": [],
   "source": [
    "my_submission = pd.DataFrame(data=preds,\n",
    "                             columns=submission_format.columns,\n",
    "                             index=submission_format.index)"
   ]
  },
  {
   "cell_type": "code",
   "execution_count": 59,
   "metadata": {
    "colab": {},
    "colab_type": "code",
    "id": "FnhOgjoCd-Dz"
   },
   "outputs": [],
   "source": [
    "my_submission.to_csv('./submissions/4th_try_to_beat_benchmark.csv')"
   ]
  },
  {
   "cell_type": "code",
   "execution_count": 65,
   "metadata": {
    "colab": {},
    "colab_type": "code",
    "id": "DMBEgJERd_jr"
   },
   "outputs": [
    {
     "data": {
      "text/plain": [
       "92212.39571947652"
      ]
     },
     "execution_count": 65,
     "metadata": {},
     "output_type": "execute_result"
    }
   ],
   "source": [
    "subm_1 = pd.read_csv('./submissions/third_try_to_beat_benchmark.csv', index_col=0)\n",
    "subm_2 = pd.read_csv('./submissions/4th_try_to_beat_benchmark.csv', index_col=0)\n",
    "np.mean(subm_1['final_rinse_total_turbidity_liter'] - subm_2['final_rinse_total_turbidity_liter'])"
   ]
  },
  {
   "cell_type": "code",
   "execution_count": null,
   "metadata": {},
   "outputs": [],
   "source": []
  },
  {
   "cell_type": "code",
   "execution_count": 64,
   "metadata": {},
   "outputs": [
    {
     "data": {
      "text/plain": [
       "74322.23702776793"
      ]
     },
     "execution_count": 64,
     "metadata": {},
     "output_type": "execute_result"
    }
   ],
   "source": []
  },
  {
   "cell_type": "code",
   "execution_count": null,
   "metadata": {},
   "outputs": [],
   "source": []
  }
 ],
 "metadata": {
  "accelerator": "GPU",
  "colab": {
   "name": "Untitled.ipynb",
   "provenance": [],
   "version": "0.3.2"
  },
  "kernelspec": {
   "display_name": "Python 3",
   "language": "python",
   "name": "python3"
  },
  "language_info": {
   "codemirror_mode": {
    "name": "ipython",
    "version": 3
   },
   "file_extension": ".py",
   "mimetype": "text/x-python",
   "name": "python",
   "nbconvert_exporter": "python",
   "pygments_lexer": "ipython3",
   "version": "3.7.1"
  }
 },
 "nbformat": 4,
 "nbformat_minor": 1
}
